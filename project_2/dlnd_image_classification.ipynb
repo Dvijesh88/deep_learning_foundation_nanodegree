{
 "cells": [
  {
   "cell_type": "markdown",
   "metadata": {
    "collapsed": true,
    "deletable": true,
    "editable": true
   },
   "source": [
    "# Image Classification\n",
    "In this project, you'll classify images from the [CIFAR-10 dataset](https://www.cs.toronto.edu/~kriz/cifar.html).  The dataset consists of airplanes, dogs, cats, and other objects. You'll preprocess the images, then train a convolutional neural network on all the samples. The images need to be normalized and the labels need to be one-hot encoded.  You'll get to apply what you learned and build a convolutional, max pooling, dropout, and fully connected layers.  At the end, you'll get to see your neural network's predictions on the sample images.\n",
    "## Get the Data\n",
    "Run the following cell to download the [CIFAR-10 dataset for python](https://www.cs.toronto.edu/~kriz/cifar-10-python.tar.gz)."
   ]
  },
  {
   "cell_type": "code",
   "execution_count": 1,
   "metadata": {
    "collapsed": false,
    "deletable": true,
    "editable": true
   },
   "outputs": [
    {
     "name": "stdout",
     "output_type": "stream",
     "text": [
      "All files found!\n"
     ]
    }
   ],
   "source": [
    "\"\"\"\n",
    "DON'T MODIFY ANYTHING IN THIS CELL THAT IS BELOW THIS LINE\n",
    "\"\"\"\n",
    "from urllib.request import urlretrieve\n",
    "from os.path import isfile, isdir\n",
    "from tqdm import tqdm\n",
    "import problem_unittests as tests\n",
    "import tarfile\n",
    "\n",
    "cifar10_dataset_folder_path = 'cifar-10-batches-py'\n",
    "\n",
    "class DLProgress(tqdm):\n",
    "    last_block = 0\n",
    "\n",
    "    def hook(self, block_num=1, block_size=1, total_size=None):\n",
    "        self.total = total_size\n",
    "        self.update((block_num - self.last_block) * block_size)\n",
    "        self.last_block = block_num\n",
    "\n",
    "if not isfile('cifar-10-python.tar.gz'):\n",
    "    with DLProgress(unit='B', unit_scale=True, miniters=1, desc='CIFAR-10 Dataset') as pbar:\n",
    "        urlretrieve(\n",
    "            'https://www.cs.toronto.edu/~kriz/cifar-10-python.tar.gz',\n",
    "            'cifar-10-python.tar.gz',\n",
    "            pbar.hook)\n",
    "\n",
    "if not isdir(cifar10_dataset_folder_path):\n",
    "    with tarfile.open('cifar-10-python.tar.gz') as tar:\n",
    "        tar.extractall()\n",
    "        tar.close()\n",
    "\n",
    "\n",
    "tests.test_folder_path(cifar10_dataset_folder_path)"
   ]
  },
  {
   "cell_type": "markdown",
   "metadata": {
    "deletable": true,
    "editable": true
   },
   "source": [
    "## Explore the Data\n",
    "The dataset is broken into batches to prevent your machine from running out of memory.  The CIFAR-10 dataset consists of 5 batches, named `data_batch_1`, `data_batch_2`, etc.. Each batch contains the labels and images that are one of the following:\n",
    "* airplane\n",
    "* automobile\n",
    "* bird\n",
    "* cat\n",
    "* deer\n",
    "* dog\n",
    "* frog\n",
    "* horse\n",
    "* ship\n",
    "* truck\n",
    "\n",
    "Understanding a dataset is part of making predictions on the data.  Play around with the code cell below by changing the `batch_id` and `sample_id`. The `batch_id` is the id for a batch (1-5). The `sample_id` is the id for a image and label pair in the batch.\n",
    "\n",
    "Ask yourself \"What are all possible labels?\", \"What is the range of values for the image data?\", \"Are the labels in order or random?\".  Answers to questions like these will help you preprocess the data and end up with better predictions."
   ]
  },
  {
   "cell_type": "code",
   "execution_count": 2,
   "metadata": {
    "collapsed": false,
    "deletable": true,
    "editable": true
   },
   "outputs": [
    {
     "name": "stdout",
     "output_type": "stream",
     "text": [
      "\n",
      "Stats of batch 1:\n",
      "Samples: 10000\n",
      "Label Counts: {0: 1005, 1: 974, 2: 1032, 3: 1016, 4: 999, 5: 937, 6: 1030, 7: 1001, 8: 1025, 9: 981}\n",
      "First 20 Labels: [6, 9, 9, 4, 1, 1, 2, 7, 8, 3, 4, 7, 7, 2, 9, 9, 9, 3, 2, 6]\n",
      "Min/Max values for labels: 0/9\n",
      "\n",
      "Example of Image 5:\n",
      "Image - Min Value: 0 Max Value: 252\n",
      "Image - Shape: (32, 32, 3)\n",
      "Label - Label Id: 1 Name: automobile\n"
     ]
    },
    {
     "data": {
      "image/png": "[encoded data removed]",
      "text/plain": [
       "<matplotlib.figure.Figure at 0x7f189452ae80>"
      ]
     },
     "metadata": {
      "image/png": {
       "height": 250,
       "width": 253
      }
     },
     "output_type": "display_data"
    },
    {
     "name": "stdout",
     "output_type": "stream",
     "text": [
      "\n",
      "Stats of batch 1:\n",
      "Samples: 10000\n",
      "Label Counts: {0: 1005, 1: 974, 2: 1032, 3: 1016, 4: 999, 5: 937, 6: 1030, 7: 1001, 8: 1025, 9: 981}\n",
      "First 20 Labels: [6, 9, 9, 4, 1, 1, 2, 7, 8, 3, 4, 7, 7, 2, 9, 9, 9, 3, 2, 6]\n",
      "Min/Max values for labels: 0/9\n",
      "\n",
      "Example of Image 4:\n",
      "Image - Min Value: 0 Max Value: 254\n",
      "Image - Shape: (32, 32, 3)\n",
      "Label - Label Id: 1 Name: automobile\n"
     ]
    },
    {
     "data": {
      "image/png": "[encoded data removed]",
      "text/plain": [
       "<matplotlib.figure.Figure at 0x7f189452a0f0>"
      ]
     },
     "metadata": {
      "image/png": {
       "height": 250,
       "width": 253
      }
     },
     "output_type": "display_data"
    }
   ],
   "source": [
    "%matplotlib inline\n",
    "%config InlineBackend.figure_format = 'retina'\n",
    "\n",
    "import helper\n",
    "import numpy as np\n",
    "\n",
    "# Explore the dataset\n",
    "batch_id = 1\n",
    "sample_id = 5\n",
    "helper.display_stats(cifar10_dataset_folder_path, batch_id, sample_id)\n",
    "helper.display_stats(cifar10_dataset_folder_path, batch_id, 4)"
   ]
  },
  {
   "cell_type": "markdown",
   "metadata": {
    "deletable": true,
    "editable": true
   },
   "source": [
    "## <span style=\"color:green\">Notes:</span>\n",
    ">  The possible labels are contained between 0 and 9 and 1 seems to be associated to an automobile. So a label is probably associated to a certain type of image. By checking on the documentation of the CIFAR-10 dataset we can see that this is effectively the case where the numbers from 0 to 9 describes objects these objects (in order):\n",
    "    - Airplane   [0]\n",
    "    - Automobile [1]\n",
    "    - Bird       [2]\n",
    "    - Cat        [3]\n",
    "    - Deer       [4]\n",
    "    - Dog        [5]\n",
    "    - Frog       [6]\n",
    "    - Horse      [7]\n",
    "    - Ship       [8]\n",
    "    - Truck      [9]"
   ]
  },
  {
   "cell_type": "markdown",
   "metadata": {
    "deletable": true,
    "editable": true
   },
   "source": [
    "## Implement Preprocess Functions\n",
    "### Normalize\n",
    "In the cell below, implement the `normalize` function to take in image data, `x`, and return it as a normalized Numpy array. The values should be in the range of 0 to 1, inclusive.  The return object should be the same shape as `x`."
   ]
  },
  {
   "cell_type": "markdown",
   "metadata": {
    "deletable": true,
    "editable": true
   },
   "source": [
    "## <span style=\"color:green\">Notes:</span>\n",
    "> The Min-Max Scaling normalizer is defined by:\n",
    "\n",
    "> $X'=a+{\\frac {\\left(X-X_{\\min }\\right)\\left(b-a\\right)}{X_{\\max }-X_{\\min }}}$\n",
    "\n",
    "> With `a=0` and `b=1`"
   ]
  },
  {
   "cell_type": "code",
   "execution_count": 3,
   "metadata": {
    "collapsed": false,
    "deletable": true,
    "editable": true
   },
   "outputs": [
    {
     "name": "stdout",
     "output_type": "stream",
     "text": [
      "Tests Passed\n"
     ]
    }
   ],
   "source": [
    "def normalize(x):\n",
    "    \"\"\"\n",
    "    Normalize a list of sample image data in the range of 0 to 1\n",
    "    : x: List of image data.  The image shape is (32, 32, 3)\n",
    "    : return: Numpy array of normalize data\n",
    "    \"\"\"\n",
    "    a = 0\n",
    "    b = 1\n",
    "    x_max = np.amax(x)\n",
    "    x_min = np.amin(x)\n",
    "    return ((x - x_min) * (b - a)) / (x_max - x_min)\n",
    "\n",
    "\n",
    "\"\"\"\n",
    "DON'T MODIFY ANYTHING IN THIS CELL THAT IS BELOW THIS LINE\n",
    "\"\"\"\n",
    "tests.test_normalize(normalize)"
   ]
  },
  {
   "cell_type": "markdown",
   "metadata": {
    "deletable": true,
    "editable": true
   },
   "source": [
    "### One-hot encode\n",
    "Just like the previous code cell, you'll be implementing a function for preprocessing.  This time, you'll implement the `one_hot_encode` function. The input, `x`, are a list of labels.  Implement the function to return the list of labels as One-Hot encoded Numpy array.  The possible values for labels are 0 to 9. The one-hot encoding function should return the same encoding for each value between each call to `one_hot_encode`.  Make sure to save the map of encodings outside the function.\n",
    "\n",
    "Hint: Don't reinvent the wheel."
   ]
  },
  {
   "cell_type": "code",
   "execution_count": 4,
   "metadata": {
    "collapsed": false,
    "deletable": true,
    "editable": true
   },
   "outputs": [
    {
     "name": "stdout",
     "output_type": "stream",
     "text": [
      "Tests Passed\n"
     ]
    }
   ],
   "source": [
    "def one_hot_encode(x):\n",
    "    \"\"\"\n",
    "    One hot encode a list of sample labels. Return a one-hot encoded vector for each label.\n",
    "    : x: List of sample Labels\n",
    "    : return: Numpy array of one-hot encoded labels\n",
    "    \"\"\"\n",
    "    l = np.zeros((len(x), 10))\n",
    "    for i in range(len(x)):\n",
    "            l[i][x[i]] = 1\n",
    "    return l\n",
    "\n",
    "\n",
    "\"\"\"\n",
    "DON'T MODIFY ANYTHING IN THIS CELL THAT IS BELOW THIS LINE\n",
    "\"\"\"\n",
    "tests.test_one_hot_encode(one_hot_encode)"
   ]
  },
  {
   "cell_type": "markdown",
   "metadata": {
    "deletable": true,
    "editable": true
   },
   "source": [
    "### Randomize Data\n",
    "As you saw from exploring the data above, the order of the samples are randomized.  It doesn't hurt to randomize it again, but you don't need to for this dataset."
   ]
  },
  {
   "cell_type": "markdown",
   "metadata": {
    "deletable": true,
    "editable": true
   },
   "source": [
    "## Preprocess all the data and save it\n",
    "Running the code cell below will preprocess all the CIFAR-10 data and save it to file. The code below also uses 10% of the training data for validation."
   ]
  },
  {
   "cell_type": "code",
   "execution_count": 5,
   "metadata": {
    "collapsed": false,
    "deletable": true,
    "editable": true
   },
   "outputs": [],
   "source": [
    "\"\"\"\n",
    "DON'T MODIFY ANYTHING IN THIS CELL\n",
    "\"\"\"\n",
    "# Preprocess Training, Validation, and Testing Data\n",
    "helper.preprocess_and_save_data(cifar10_dataset_folder_path, normalize, one_hot_encode)"
   ]
  },
  {
   "cell_type": "markdown",
   "metadata": {
    "deletable": true,
    "editable": true
   },
   "source": [
    "# Check Point\n",
    "This is your first checkpoint.  If you ever decide to come back to this notebook or have to restart the notebook, you can start from here.  The preprocessed data has been saved to disk."
   ]
  },
  {
   "cell_type": "code",
   "execution_count": 6,
   "metadata": {
    "collapsed": true,
    "deletable": true,
    "editable": true
   },
   "outputs": [],
   "source": [
    "\"\"\"\n",
    "DON'T MODIFY ANYTHING IN THIS CELL\n",
    "\"\"\"\n",
    "import pickle\n",
    "import problem_unittests as tests\n",
    "import helper\n",
    "\n",
    "# Load the Preprocessed Validation data\n",
    "valid_features, valid_labels = pickle.load(open('preprocess_validation.p', mode='rb'))"
   ]
  },
  {
   "cell_type": "markdown",
   "metadata": {
    "deletable": true,
    "editable": true
   },
   "source": [
    "## Build the network\n",
    "For the neural network, you'll build each layer into a function.  Most of the code you've seen has been outside of functions. To test your code more thoroughly, we require that you put each layer in a function.  This allows us to give you better feedback and test for simple mistakes using our unittests before you submit your project.\n",
    "\n",
    ">**Note:** If you're finding it hard to dedicate enough time for this course each week, we've provided a small shortcut to this part of the project. In the next couple of problems, you'll have the option to use classes from the [TensorFlow Layers](https://www.tensorflow.org/api_docs/python/tf/layers) or [TensorFlow Layers (contrib)](https://www.tensorflow.org/api_guides/python/contrib.layers) packages to build each layer, except the layers you build in the \"Convolutional and Max Pooling Layer\" section.  TF Layers is similar to Keras's and TFLearn's abstraction to layers, so it's easy to pickup.\n",
    "\n",
    ">However, if you would like to get the most out of this course, try to solve all the problems _without_ using anything from the TF Layers packages. You **can** still use classes from other packages that happen to have the same name as ones you find in TF Layers! For example, instead of using the TF Layers version of the `conv2d` class, [tf.layers.conv2d](https://www.tensorflow.org/api_docs/python/tf/layers/conv2d), you would want to use the TF Neural Network version of `conv2d`, [tf.nn.conv2d](https://www.tensorflow.org/api_docs/python/tf/nn/conv2d). \n",
    "\n",
    "Let's begin!\n",
    "\n",
    "### Input\n",
    "The neural network needs to read the image data, one-hot encoded labels, and dropout keep probability. Implement the following functions\n",
    "* Implement `neural_net_image_input`\n",
    " * Return a [TF Placeholder](https://www.tensorflow.org/api_docs/python/tf/placeholder)\n",
    " * Set the shape using `image_shape` with batch size set to `None`.\n",
    " * Name the TensorFlow placeholder \"x\" using the TensorFlow `name` parameter in the [TF Placeholder](https://www.tensorflow.org/api_docs/python/tf/placeholder).\n",
    "* Implement `neural_net_label_input`\n",
    " * Return a [TF Placeholder](https://www.tensorflow.org/api_docs/python/tf/placeholder)\n",
    " * Set the shape using `n_classes` with batch size set to `None`.\n",
    " * Name the TensorFlow placeholder \"y\" using the TensorFlow `name` parameter in the [TF Placeholder](https://www.tensorflow.org/api_docs/python/tf/placeholder).\n",
    "* Implement `neural_net_keep_prob_input`\n",
    " * Return a [TF Placeholder](https://www.tensorflow.org/api_docs/python/tf/placeholder) for dropout keep probability.\n",
    " * Name the TensorFlow placeholder \"keep_prob\" using the TensorFlow `name` parameter in the [TF Placeholder](https://www.tensorflow.org/api_docs/python/tf/placeholder).\n",
    "\n",
    "These names will be used at the end of the project to load your saved model.\n",
    "\n",
    "Note: `None` for shapes in TensorFlow allow for a dynamic size."
   ]
  },
  {
   "cell_type": "code",
   "execution_count": 7,
   "metadata": {
    "collapsed": false,
    "deletable": true,
    "editable": true
   },
   "outputs": [
    {
     "name": "stdout",
     "output_type": "stream",
     "text": [
      "Image Input Tests Passed.\n",
      "Label Input Tests Passed.\n",
      "Keep Prob Tests Passed.\n"
     ]
    }
   ],
   "source": [
    "import tensorflow as tf\n",
    "\n",
    "def neural_net_image_input(image_shape):\n",
    "    \"\"\"\n",
    "    Return a Tensor for a bach of image input\n",
    "    : image_shape: Shape of the images\n",
    "    : return: Tensor for image input.\n",
    "    \"\"\"\n",
    "    return tf.placeholder(tf.float32, shape=[None, *image_shape], name='x')\n",
    "\n",
    "\n",
    "def neural_net_label_input(n_classes):\n",
    "    \"\"\"\n",
    "    Return a Tensor for a batch of label input\n",
    "    : n_classes: Number of classes\n",
    "    : return: Tensor for label input.\n",
    "    \"\"\"\n",
    "    return tf.placeholder(tf.float32, shape=[None, n_classes], name='y')\n",
    "\n",
    "\n",
    "def neural_net_keep_prob_input():\n",
    "    \"\"\"\n",
    "    Return a Tensor for keep probability\n",
    "    : return: Tensor for keep probability.\n",
    "    \"\"\"\n",
    "    return tf.placeholder(tf.float32, name='keep_prob')\n",
    "\n",
    "\n",
    "\"\"\"\n",
    "DON'T MODIFY ANYTHING IN THIS CELL THAT IS BELOW THIS LINE\n",
    "\"\"\"\n",
    "tf.reset_default_graph()\n",
    "tests.test_nn_image_inputs(neural_net_image_input)\n",
    "tests.test_nn_label_inputs(neural_net_label_input)\n",
    "tests.test_nn_keep_prob_inputs(neural_net_keep_prob_input)"
   ]
  },
  {
   "cell_type": "markdown",
   "metadata": {
    "deletable": true,
    "editable": true
   },
   "source": [
    "### Convolution and Max Pooling Layer\n",
    "Convolution layers have a lot of success with images. For this code cell, you should implement the function `conv2d_maxpool` to apply convolution then max pooling:\n",
    "* Create the weight and bias using `conv_ksize`, `conv_num_outputs` and the shape of `x_tensor`.\n",
    "* Apply a convolution to `x_tensor` using weight and `conv_strides`.\n",
    " * We recommend you use same padding, but you're welcome to use any padding.\n",
    "* Add bias\n",
    "* Add a nonlinear activation to the convolution.\n",
    "* Apply Max Pooling using `pool_ksize` and `pool_strides`.\n",
    " * We recommend you use same padding, but you're welcome to use any padding.\n",
    "\n",
    "**Note:** You **can't** use [TensorFlow Layers](https://www.tensorflow.org/api_docs/python/tf/layers) or [TensorFlow Layers (contrib)](https://www.tensorflow.org/api_guides/python/contrib.layers) for **this** layer, but you can still use TensorFlow's [Neural Network](https://www.tensorflow.org/api_docs/python/tf/nn) package. You may still use the shortcut option for all the **other** layers."
   ]
  },
  {
   "cell_type": "code",
   "execution_count": 8,
   "metadata": {
    "collapsed": false,
    "deletable": true,
    "editable": true
   },
   "outputs": [
    {
     "name": "stdout",
     "output_type": "stream",
     "text": [
      "Tests Passed\n"
     ]
    }
   ],
   "source": [
    "def conv2d_maxpool(x_tensor, conv_num_outputs, conv_ksize, conv_strides, pool_ksize, pool_strides):\n",
    "    \"\"\"\n",
    "    Apply convolution then max pooling to x_tensor\n",
    "    :param x_tensor: TensorFlow Tensor\n",
    "    :param conv_num_outputs: Number of outputs for the convolutional layer\n",
    "    :param conv_ksize: kernel (patches) size 2-D Tuple for the convolutional layer\n",
    "    :param conv_strides: Stride 2-D Tuple for convolution\n",
    "    :param pool_ksize: kernel size 2-D Tuple for pool\n",
    "    :param pool_strides: Stride 2-D Tuple for pool\n",
    "    : return: A tensor that represents convolution and max pooling of x_tensor\n",
    "    \"\"\"\n",
    "    input_channel_depth = int(x_tensor.get_shape()[3])\n",
    "    # The shape of the filter weight is (height, width, input_depth, output_depth)\n",
    "    filter_weights = tf.Variable(tf.truncated_normal([*conv_ksize, input_channel_depth, conv_num_outputs], dtype=tf.float32))\n",
    "    # The shape of the biases is equal the the number of outputs of the conv layer\n",
    "    filter_biases = tf.Variable(tf.constant(0, shape=[conv_num_outputs], dtype=tf.float32))\n",
    "    \n",
    "    layer = tf.nn.conv2d(input=x_tensor, filter=filter_weights, strides=[1, *conv_strides, 1], padding='SAME')\n",
    "    layer += filter_biases\n",
    "    layer = tf.nn.max_pool(layer, [1, *pool_ksize, 1], strides=[1, *pool_strides, 1], padding='SAME')\n",
    "    return layer\n",
    "\n",
    "\n",
    "\"\"\"\n",
    "DON'T MODIFY ANYTHING IN THIS CELL THAT IS BELOW THIS LINE\n",
    "\"\"\"\n",
    "tests.test_con_pool(conv2d_maxpool)"
   ]
  },
  {
   "cell_type": "markdown",
   "metadata": {
    "deletable": true,
    "editable": true
   },
   "source": [
    "## <span style=\"color:red\">Questions:</span>\n",
    "> - In `tf.nn.conv2d` and `tf.nn.max_pool` I've set the first and last `strides` to 1 as the lessons told us that they must always be 1, same applies for the `pool_ksize`. But why is that? Why would we always want the first and last strides and `pool_ksize` to be 1?\n",
    "> - In the continuity of the first question, for `filter_weights` I defined the 4D tensor like this `[height, width, input_depth, output_depth]`, for the `strides` it would be something like: `[image-number, x-movement, y-movement, input-channel]` but for `pool_ksize` what does each values represent exactly? `[?, ?, ?, ?]` ?\n",
    "> - What is the point of always adding biases to our layer if they are 0? If we train our cnn only the weights will be updated right? So what is the purpose of having those biases?\n",
    "> "
   ]
  },
  {
   "cell_type": "markdown",
   "metadata": {
    "deletable": true,
    "editable": true
   },
   "source": [
    "### Flatten Layer\n",
    "Implement the `flatten` function to change the dimension of `x_tensor` from a 4-D tensor to a 2-D tensor.  The output should be the shape (*Batch Size*, *Flattened Image Size*). Shortcut option: you can use classes from the [TensorFlow Layers](https://www.tensorflow.org/api_docs/python/tf/layers) or [TensorFlow Layers (contrib)](https://www.tensorflow.org/api_guides/python/contrib.layers) packages for this layer. For more of a challenge, only use other TensorFlow packages."
   ]
  },
  {
   "cell_type": "code",
   "execution_count": 9,
   "metadata": {
    "collapsed": false,
    "deletable": true,
    "editable": true
   },
   "outputs": [
    {
     "name": "stdout",
     "output_type": "stream",
     "text": [
      "Tests Passed\n"
     ]
    }
   ],
   "source": [
    "def flatten(x_tensor):\n",
    "    \"\"\"\n",
    "    Flatten x_tensor to (Batch Size, Flattened Image Size)\n",
    "    : x_tensor: A tensor of size (Batch Size, ...), where ... are the image dimensions.\n",
    "    : return: A tensor of size (Batch Size, Flattened Image Size).\n",
    "    \"\"\"\n",
    "    tensor_shape = x_tensor.get_shape()\n",
    "    total_features = tensor_shape[1:4].num_elements() # num_elements() = img_height * img_width * num_channels\n",
    "    return tf.reshape(x_tensor, [-1, total_features])\n",
    "\n",
    "\n",
    "\"\"\"\n",
    "DON'T MODIFY ANYTHING IN THIS CELL THAT IS BELOW THIS LINE\n",
    "\"\"\"\n",
    "tests.test_flatten(flatten)"
   ]
  },
  {
   "cell_type": "markdown",
   "metadata": {
    "deletable": true,
    "editable": true
   },
   "source": [
    "### Fully-Connected Layer\n",
    "Implement the `fully_conn` function to apply a fully connected layer to `x_tensor` with the shape (*Batch Size*, *num_outputs*). Shortcut option: you can use classes from the [TensorFlow Layers](https://www.tensorflow.org/api_docs/python/tf/layers) or [TensorFlow Layers (contrib)](https://www.tensorflow.org/api_guides/python/contrib.layers) packages for this layer. For more of a challenge, only use other TensorFlow packages."
   ]
  },
  {
   "cell_type": "code",
   "execution_count": 10,
   "metadata": {
    "collapsed": false,
    "deletable": true,
    "editable": true
   },
   "outputs": [
    {
     "name": "stdout",
     "output_type": "stream",
     "text": [
      "Tests Passed\n"
     ]
    }
   ],
   "source": [
    "def fully_conn(x_tensor, num_outputs):\n",
    "    \"\"\"\n",
    "    Apply a fully connected layer to x_tensor using weight and bias\n",
    "    : x_tensor: A 2-D tensor where the first dimension is batch size.\n",
    "    : num_outputs: The number of output that the new tensor should be.\n",
    "    : return: A 2-D tensor where the second dimension is num_outputs.\n",
    "    \"\"\"\n",
    "    num_inputs = int(x_tensor.get_shape()[1])\n",
    "    # stdev=0.1 seems to initialize weights more accurately\n",
    "    weights = tf.Variable(tf.truncated_normal([num_inputs, num_outputs], dtype=tf.float32, stddev=0.05))\n",
    "    biases = tf.Variable(tf.constant(0, shape=[num_outputs], dtype=tf.float32))\n",
    "    return tf.add(tf.matmul(x_tensor, weights), biases)\n",
    "\n",
    "\n",
    "\"\"\"\n",
    "DON'T MODIFY ANYTHING IN THIS CELL THAT IS BELOW THIS LINE\n",
    "\"\"\"\n",
    "tests.test_fully_conn(fully_conn)"
   ]
  },
  {
   "cell_type": "markdown",
   "metadata": {},
   "source": [
    "## <span style=\"color:red\">Questions:</span>\n",
    "> I added `stddev=0.05` to the weights as I saw people doing this [on some of their notebooks](https://github.com/Hvass-Labs/TensorFlow-Tutorials/blob/master/02_Convolutional_Neural_Network.ipynb). Then I ran the optimization pass and noticed a **huge** improvement in accuracy but I still cannot figure out what is actually happening, why using `stddev=0.05` for weights initialisation gives this massive performance boost?"
   ]
  },
  {
   "cell_type": "markdown",
   "metadata": {
    "deletable": true,
    "editable": true
   },
   "source": [
    "### Output Layer\n",
    "Implement the `output` function to apply a fully connected layer to `x_tensor` with the shape (*Batch Size*, *num_outputs*). Shortcut option: you can use classes from the [TensorFlow Layers](https://www.tensorflow.org/api_docs/python/tf/layers) or [TensorFlow Layers (contrib)](https://www.tensorflow.org/api_guides/python/contrib.layers) packages for this layer. For more of a challenge, only use other TensorFlow packages.\n",
    "\n",
    "**Note:** Activation, softmax, or cross entropy should **not** be applied to this."
   ]
  },
  {
   "cell_type": "code",
   "execution_count": 11,
   "metadata": {
    "collapsed": false,
    "deletable": true,
    "editable": true
   },
   "outputs": [
    {
     "name": "stdout",
     "output_type": "stream",
     "text": [
      "Tests Passed\n"
     ]
    }
   ],
   "source": [
    "def output(x_tensor, num_outputs):\n",
    "    \"\"\"\n",
    "    Apply a output layer to x_tensor using weight and bias\n",
    "    : x_tensor: A 2-D tensor where the first dimension is batch size.\n",
    "    : num_outputs: The number of output that the new tensor should be.\n",
    "    : return: A 2-D tensor where the second dimension is num_outputs.\n",
    "    \"\"\"\n",
    "    return fully_conn(x_tensor, num_outputs)\n",
    "\n",
    "\n",
    "\"\"\"\n",
    "DON'T MODIFY ANYTHING IN THIS CELL THAT IS BELOW THIS LINE\n",
    "\"\"\"\n",
    "tests.test_output(output)"
   ]
  },
  {
   "cell_type": "markdown",
   "metadata": {
    "deletable": true,
    "editable": true
   },
   "source": [
    "### Create Convolutional Model\n",
    "Implement the function `conv_net` to create a convolutional neural network model. The function takes in a batch of images, `x`, and outputs logits.  Use the layers you created above to create this model:\n",
    "\n",
    "* Apply 1, 2, or 3 Convolution and Max Pool layers\n",
    "* Apply a Flatten Layer\n",
    "* Apply 1, 2, or 3 Fully Connected Layers\n",
    "* Apply an Output Layer\n",
    "* Return the output\n",
    "* Apply [TensorFlow's Dropout](https://www.tensorflow.org/api_docs/python/tf/nn/dropout) to one or more layers in the model using `keep_prob`. "
   ]
  },
  {
   "cell_type": "code",
   "execution_count": 12,
   "metadata": {
    "collapsed": false,
    "deletable": true,
    "editable": true
   },
   "outputs": [
    {
     "name": "stdout",
     "output_type": "stream",
     "text": [
      "Neural Network Built!\n"
     ]
    }
   ],
   "source": [
    "def conv_net(x, keep_prob):\n",
    "    \"\"\"\n",
    "    Create a convolutional neural network model\n",
    "    : x: Placeholder tensor that holds image data.\n",
    "    : keep_prob: Placeholder tensor that hold dropout keep probability.\n",
    "    : return: Tensor that represents logits\n",
    "    \"\"\"\n",
    "    \n",
    "    # Convolutional layer\n",
    "    # Play around with different number of outputs, kernel size and stride\n",
    "    conv_strides = (1, 1)\n",
    "    conv_ksize = (3, 3) # Size of the filter HxW\n",
    "    conv_num_outputs = 10\n",
    "    pool_ksize = (3, 3)\n",
    "    pool_strides = (2, 2)\n",
    "    layer_convolutional = conv2d_maxpool(x, conv_num_outputs, conv_ksize, conv_strides, pool_ksize, pool_strides)\n",
    "    \n",
    "    # Apply some dropout here?\n",
    "    # layer_convolutional = tf.nn.dropout(layer_convolutional, keep_prob)\n",
    "    \n",
    "    # Flatten layer\n",
    "    layer_flatten = flatten(layer_convolutional)\n",
    "    \n",
    "    # Fully connected layer\n",
    "    num_outputs = 10 # Play around with different number of outputs\n",
    "    fully_connected_layer = fully_conn(layer_flatten, num_outputs)\n",
    "    \n",
    "    # Apply some dropout\n",
    "    fully_connected_layer = tf.nn.dropout(fully_connected_layer, keep_prob)\n",
    "    \n",
    "    # Output layer\n",
    "    output_layer = output(fully_connected_layer, 10) # 10 = Number of labels (0 to 9)\n",
    "    \n",
    "    return output_layer\n",
    "\n",
    "\n",
    "\"\"\"\n",
    "DON'T MODIFY ANYTHING IN THIS CELL THAT IS BELOW THIS LINE\n",
    "\"\"\"\n",
    "\n",
    "##############################\n",
    "## Build the Neural Network ##\n",
    "##############################\n",
    "\n",
    "# Remove previous weights, bias, inputs, etc..\n",
    "tf.reset_default_graph()\n",
    "\n",
    "# Inputs\n",
    "x = neural_net_image_input((32, 32, 3))\n",
    "y = neural_net_label_input(10)\n",
    "keep_prob = neural_net_keep_prob_input()\n",
    "\n",
    "# Model\n",
    "logits = conv_net(x, keep_prob)\n",
    "\n",
    "# Name logits Tensor, so that is can be loaded from disk after training\n",
    "logits = tf.identity(logits, name='logits')\n",
    "\n",
    "# Loss and Optimizer\n",
    "cost = tf.reduce_mean(tf.nn.softmax_cross_entropy_with_logits(logits=logits, labels=y))\n",
    "optimizer = tf.train.AdamOptimizer().minimize(cost)\n",
    "\n",
    "# Accuracy\n",
    "correct_pred = tf.equal(tf.argmax(logits, 1), tf.argmax(y, 1))\n",
    "accuracy = tf.reduce_mean(tf.cast(correct_pred, tf.float32), name='accuracy')\n",
    "\n",
    "tests.test_conv_net(conv_net)"
   ]
  },
  {
   "cell_type": "markdown",
   "metadata": {
    "deletable": true,
    "editable": true
   },
   "source": [
    "## Train the Neural Network\n",
    "### Single Optimization\n",
    "Implement the function `train_neural_network` to do a single optimization.  The optimization should use `optimizer` to optimize in `session` with a `feed_dict` of the following:\n",
    "* `x` for image input\n",
    "* `y` for labels\n",
    "* `keep_prob` for keep probability for dropout\n",
    "\n",
    "This function will be called for each batch, so `tf.global_variables_initializer()` has already been called.\n",
    "\n",
    "Note: Nothing needs to be returned. This function is only optimizing the neural network."
   ]
  },
  {
   "cell_type": "code",
   "execution_count": 13,
   "metadata": {
    "collapsed": false,
    "deletable": true,
    "editable": true
   },
   "outputs": [
    {
     "name": "stdout",
     "output_type": "stream",
     "text": [
      "Tests Passed\n"
     ]
    }
   ],
   "source": [
    "def train_neural_network(session, optimizer, keep_probability, feature_batch, label_batch):\n",
    "    \"\"\"\n",
    "    Optimize the session on a batch of images and labels\n",
    "    : session: Current TensorFlow session\n",
    "    : optimizer: TensorFlow optimizer function\n",
    "    : keep_probability: keep probability\n",
    "    : feature_batch: Batch of Numpy image data\n",
    "    : label_batch: Batch of Numpy label data\n",
    "    \"\"\"\n",
    "    feed_dict_train = {x: feature_batch, y: label_batch, keep_prob: keep_probability}\n",
    "    session.run(optimizer, feed_dict=feed_dict_train)\n",
    "\n",
    "\n",
    "\"\"\"\n",
    "DON'T MODIFY ANYTHING IN THIS CELL THAT IS BELOW THIS LINE\n",
    "\"\"\"\n",
    "tests.test_train_nn(train_neural_network)"
   ]
  },
  {
   "cell_type": "markdown",
   "metadata": {
    "deletable": true,
    "editable": true
   },
   "source": [
    "### Show Stats\n",
    "Implement the function `print_stats` to print loss and validation accuracy.  Use the global variables `valid_features` and `valid_labels` to calculate validation accuracy.  Use a keep probability of `1.0` to calculate the loss and validation accuracy."
   ]
  },
  {
   "cell_type": "code",
   "execution_count": 14,
   "metadata": {
    "collapsed": false,
    "deletable": true,
    "editable": true
   },
   "outputs": [],
   "source": [
    "def print_stats(session, feature_batch, label_batch, cost, accuracy):\n",
    "    \"\"\"\n",
    "    Print information about loss and validation accuracy\n",
    "    : session: Current TensorFlow session\n",
    "    : feature_batch: Batch of Numpy image data\n",
    "    : label_batch: Batch of Numpy label data\n",
    "    : cost: TensorFlow cost function\n",
    "    : accuracy: TensorFlow accuracy function\n",
    "    \"\"\"\n",
    "    training_accuracy_result = session.run(accuracy, feed_dict={x: feature_batch, y: label_batch, keep_prob: 1.0})\n",
    "    training_cost_result = session.run(cost, feed_dict={x: feature_batch, y: label_batch, keep_prob: 1.0})\n",
    "    \n",
    "    validation_accuracy_result = session.run(accuracy, feed_dict={x: valid_features, y: valid_labels, keep_prob: 1.0})\n",
    "    validation_cost_result = session.run(cost, feed_dict={x: valid_features, y: valid_labels, keep_prob: 1.0})\n",
    "    \n",
    "    print(\"Train acc: {:0.4f}, Train cost: {:0.4f}\\tVal acc: {:0.4f}, Val cost: {:0.4f}\"\n",
    "          .format(training_accuracy_result, training_cost_result, validation_accuracy_result, validation_cost_result))"
   ]
  },
  {
   "cell_type": "markdown",
   "metadata": {
    "deletable": true,
    "editable": true
   },
   "source": [
    "### Hyperparameters\n",
    "Tune the following parameters:\n",
    "* Set `epochs` to the number of iterations until the network stops learning or start overfitting\n",
    "* Set `batch_size` to the highest number that your machine has memory for.  Most people set them to common sizes of memory:\n",
    " * 64\n",
    " * 128\n",
    " * 256\n",
    " * ...\n",
    "* Set `keep_probability` to the probability of keeping a node using dropout"
   ]
  },
  {
   "cell_type": "code",
   "execution_count": 15,
   "metadata": {
    "collapsed": true,
    "deletable": true,
    "editable": true
   },
   "outputs": [],
   "source": [
    "# TODO: Tune Parameters\n",
    "epochs = 50\n",
    "batch_size = 256\n",
    "keep_probability = 0.9\n",
    "# Best Val acc: 0.5156, Val cost: 1.4742"
   ]
  },
  {
   "cell_type": "markdown",
   "metadata": {
    "deletable": true,
    "editable": true
   },
   "source": [
    "### Train on a Single CIFAR-10 Batch\n",
    "Instead of training the neural network on all the CIFAR-10 batches of data, let's use a single batch. This should save time while you iterate on the model to get a better accuracy.  Once the final validation accuracy is 50% or greater, run the model on all the data in the next section."
   ]
  },
  {
   "cell_type": "code",
   "execution_count": 16,
   "metadata": {
    "collapsed": false,
    "deletable": true,
    "editable": true
   },
   "outputs": [
    {
     "name": "stdout",
     "output_type": "stream",
     "text": [
      "Checking the Training on a Single Batch...\n",
      "Epoch  1, CIFAR-10 Batch 1:  Train acc: 0.3000, Train cost: 2.1090\tVal acc: 0.2698, Val cost: 2.0129\n",
      "Epoch  2, CIFAR-10 Batch 1:  Train acc: 0.4250, Train cost: 1.9492\tVal acc: 0.3544, Val cost: 1.8554\n",
      "Epoch  3, CIFAR-10 Batch 1:  Train acc: 0.4750, Train cost: 1.8070\tVal acc: 0.3926, Val cost: 1.7293\n",
      "Epoch  4, CIFAR-10 Batch 1:  Train acc: 0.5000, Train cost: 1.6950\tVal acc: 0.4036, Val cost: 1.6781\n",
      "Epoch  5, CIFAR-10 Batch 1:  Train acc: 0.4750, Train cost: 1.6242\tVal acc: 0.4222, Val cost: 1.6359\n",
      "Epoch  6, CIFAR-10 Batch 1:  Train acc: 0.5250, Train cost: 1.5367\tVal acc: 0.4282, Val cost: 1.6076\n",
      "Epoch  7, CIFAR-10 Batch 1:  Train acc: 0.5250, Train cost: 1.4472\tVal acc: 0.4422, Val cost: 1.5711\n",
      "Epoch  8, CIFAR-10 Batch 1:  Train acc: 0.6250, Train cost: 1.3578\tVal acc: 0.4586, Val cost: 1.5441\n",
      "Epoch  9, CIFAR-10 Batch 1:  Train acc: 0.6000, Train cost: 1.2996\tVal acc: 0.4580, Val cost: 1.5382\n",
      "Epoch 10, CIFAR-10 Batch 1:  Train acc: 0.7000, Train cost: 1.2114\tVal acc: 0.4708, Val cost: 1.5094\n",
      "Epoch 11, CIFAR-10 Batch 1:  Train acc: 0.7250, Train cost: 1.1445\tVal acc: 0.4742, Val cost: 1.4912\n",
      "Epoch 12, CIFAR-10 Batch 1:  Train acc: 0.7500, Train cost: 1.0971\tVal acc: 0.4714, Val cost: 1.4836\n",
      "Epoch 13, CIFAR-10 Batch 1:  Train acc: 0.7250, Train cost: 1.0366\tVal acc: 0.4808, Val cost: 1.4701\n",
      "Epoch 14, CIFAR-10 Batch 1:  Train acc: 0.7250, Train cost: 1.0172\tVal acc: 0.4840, Val cost: 1.4725\n",
      "Epoch 15, CIFAR-10 Batch 1:  Train acc: 0.7750, Train cost: 0.9637\tVal acc: 0.4902, Val cost: 1.4608\n",
      "Epoch 16, CIFAR-10 Batch 1:  Train acc: 0.7750, Train cost: 0.9163\tVal acc: 0.4876, Val cost: 1.4454\n",
      "Epoch 17, CIFAR-10 Batch 1:  Train acc: 0.8500, Train cost: 0.8777\tVal acc: 0.4968, Val cost: 1.4341\n",
      "Epoch 18, CIFAR-10 Batch 1:  Train acc: 0.8500, Train cost: 0.8493\tVal acc: 0.4966, Val cost: 1.4281\n",
      "Epoch 19, CIFAR-10 Batch 1:  Train acc: 0.8500, Train cost: 0.8158\tVal acc: 0.4964, Val cost: 1.4228\n",
      "Epoch 20, CIFAR-10 Batch 1:  Train acc: 0.8500, Train cost: 0.7681\tVal acc: 0.5024, Val cost: 1.4180\n",
      "Epoch 21, CIFAR-10 Batch 1:  Train acc: 0.8750, Train cost: 0.7517\tVal acc: 0.5022, Val cost: 1.4151\n",
      "Epoch 22, CIFAR-10 Batch 1:  Train acc: 0.8750, Train cost: 0.7234\tVal acc: 0.5028, Val cost: 1.4152\n",
      "Epoch 23, CIFAR-10 Batch 1:  Train acc: 0.8750, Train cost: 0.6871\tVal acc: 0.5028, Val cost: 1.4134\n",
      "Epoch 24, CIFAR-10 Batch 1:  Train acc: 0.9000, Train cost: 0.6760\tVal acc: 0.5018, Val cost: 1.4103\n",
      "Epoch 25, CIFAR-10 Batch 1:  Train acc: 0.9000, Train cost: 0.6434\tVal acc: 0.5000, Val cost: 1.4121\n",
      "Epoch 26, CIFAR-10 Batch 1:  Train acc: 0.9000, Train cost: 0.6269\tVal acc: 0.5006, Val cost: 1.4132\n",
      "Epoch 27, CIFAR-10 Batch 1:  Train acc: 0.9000, Train cost: 0.6097\tVal acc: 0.5044, Val cost: 1.4022\n",
      "Epoch 28, CIFAR-10 Batch 1:  Train acc: 0.9000, Train cost: 0.5957\tVal acc: 0.5062, Val cost: 1.4058\n",
      "Epoch 29, CIFAR-10 Batch 1:  Train acc: 0.9000, Train cost: 0.5616\tVal acc: 0.5094, Val cost: 1.3991\n",
      "Epoch 30, CIFAR-10 Batch 1:  Train acc: 0.9000, Train cost: 0.5578\tVal acc: 0.5036, Val cost: 1.4051\n",
      "Epoch 31, CIFAR-10 Batch 1:  Train acc: 0.9000, Train cost: 0.5393\tVal acc: 0.5140, Val cost: 1.4003\n",
      "Epoch 32, CIFAR-10 Batch 1:  Train acc: 0.9000, Train cost: 0.5215\tVal acc: 0.5086, Val cost: 1.4030\n",
      "Epoch 33, CIFAR-10 Batch 1:  Train acc: 0.9000, Train cost: 0.4921\tVal acc: 0.5106, Val cost: 1.3992\n",
      "Epoch 34, CIFAR-10 Batch 1:  Train acc: 0.9250, Train cost: 0.4731\tVal acc: 0.5094, Val cost: 1.4026\n",
      "Epoch 35, CIFAR-10 Batch 1:  Train acc: 0.9250, Train cost: 0.4613\tVal acc: 0.5048, Val cost: 1.4132\n",
      "Epoch 36, CIFAR-10 Batch 1:  Train acc: 0.9000, Train cost: 0.4479\tVal acc: 0.5068, Val cost: 1.4107\n",
      "Epoch 37, CIFAR-10 Batch 1:  Train acc: 0.9250, Train cost: 0.4154\tVal acc: 0.5070, Val cost: 1.3970\n",
      "Epoch 38, CIFAR-10 Batch 1:  Train acc: 0.9250, Train cost: 0.4425\tVal acc: 0.5052, Val cost: 1.4184\n",
      "Epoch 39, CIFAR-10 Batch 1:  Train acc: 0.9000, Train cost: 0.3903\tVal acc: 0.5120, Val cost: 1.3928\n",
      "Epoch 40, CIFAR-10 Batch 1:  Train acc: 0.9250, Train cost: 0.3998\tVal acc: 0.5132, Val cost: 1.3988\n",
      "Epoch 41, CIFAR-10 Batch 1:  Train acc: 0.9500, Train cost: 0.3846\tVal acc: 0.5134, Val cost: 1.4011\n",
      "Epoch 42, CIFAR-10 Batch 1:  Train acc: 0.9500, Train cost: 0.3798\tVal acc: 0.5142, Val cost: 1.4108\n",
      "Epoch 43, CIFAR-10 Batch 1:  Train acc: 0.9500, Train cost: 0.3673\tVal acc: 0.5092, Val cost: 1.4264\n",
      "Epoch 44, CIFAR-10 Batch 1:  Train acc: 0.9500, Train cost: 0.3603\tVal acc: 0.5148, Val cost: 1.4065\n",
      "Epoch 45, CIFAR-10 Batch 1:  Train acc: 0.9500, Train cost: 0.3495\tVal acc: 0.5084, Val cost: 1.4216\n",
      "Epoch 46, CIFAR-10 Batch 1:  Train acc: 0.9250, Train cost: 0.3578\tVal acc: 0.5102, Val cost: 1.4430\n",
      "Epoch 47, CIFAR-10 Batch 1:  Train acc: 0.9750, Train cost: 0.3239\tVal acc: 0.5166, Val cost: 1.4096\n",
      "Epoch 48, CIFAR-10 Batch 1:  Train acc: 0.9500, Train cost: 0.3167\tVal acc: 0.5090, Val cost: 1.4390\n",
      "Epoch 49, CIFAR-10 Batch 1:  Train acc: 0.9750, Train cost: 0.3220\tVal acc: 0.5146, Val cost: 1.4251\n",
      "Epoch 50, CIFAR-10 Batch 1:  Train acc: 0.9750, Train cost: 0.2912\tVal acc: 0.5168, Val cost: 1.4284\n"
     ]
    }
   ],
   "source": [
    "\"\"\"\n",
    "DON'T MODIFY ANYTHING IN THIS CELL\n",
    "\"\"\"\n",
    "print('Checking the Training on a Single Batch...')\n",
    "with tf.Session() as sess:\n",
    "    # Initializing the variables\n",
    "    sess.run(tf.global_variables_initializer())\n",
    "    \n",
    "    # Training cycle\n",
    "    for epoch in range(epochs):\n",
    "        batch_i = 1\n",
    "        for batch_features, batch_labels in helper.load_preprocess_training_batch(batch_i, batch_size):\n",
    "            train_neural_network(sess, optimizer, keep_probability, batch_features, batch_labels)\n",
    "        print('Epoch {:>2}, CIFAR-10 Batch {}:  '.format(epoch + 1, batch_i), end='')\n",
    "        print_stats(sess, batch_features, batch_labels, cost, accuracy)"
   ]
  },
  {
   "cell_type": "markdown",
   "metadata": {
    "deletable": true,
    "editable": true
   },
   "source": [
    "## <span style=\"color:red\">Questions:</span>\n",
    "> I've started by setting the `batch_size` to 5120 as you said: \"*Set batch_size to the highest number that your machine has memory for*\", I have a GTX 1070/8gb of GPU RAM and 32gb of RAM. But I noticed that my validation accuracy was actually increasing more slowly and then dropping at some point (I guess because of overfit), using a `batch_size` of 256 instead resolved the issue. Could you explain to me why?"
   ]
  },
  {
   "cell_type": "markdown",
   "metadata": {
    "deletable": true,
    "editable": true
   },
   "source": [
    "### Fully Train the Model\n",
    "Now that you got a good accuracy with a single CIFAR-10 batch, try it with all five batches."
   ]
  },
  {
   "cell_type": "code",
   "execution_count": 17,
   "metadata": {
    "collapsed": false,
    "deletable": true,
    "editable": true
   },
   "outputs": [
    {
     "name": "stdout",
     "output_type": "stream",
     "text": [
      "Training...\n",
      "Epoch  1, CIFAR-10 Batch 1:  Train acc: 0.2500, Train cost: 2.0865\tVal acc: 0.2742, Val cost: 1.9584\n",
      "Epoch  1, CIFAR-10 Batch 2:  Train acc: 0.4500, Train cost: 1.7736\tVal acc: 0.3560, Val cost: 1.8120\n",
      "Epoch  1, CIFAR-10 Batch 3:  Train acc: 0.5000, Train cost: 1.6618\tVal acc: 0.3892, Val cost: 1.7114\n",
      "Epoch  1, CIFAR-10 Batch 4:  Train acc: 0.4000, Train cost: 1.6586\tVal acc: 0.4068, Val cost: 1.6676\n",
      "Epoch  1, CIFAR-10 Batch 5:  Train acc: 0.4000, Train cost: 1.6719\tVal acc: 0.4386, Val cost: 1.6034\n",
      "Epoch  2, CIFAR-10 Batch 1:  Train acc: 0.3500, Train cost: 1.8461\tVal acc: 0.4420, Val cost: 1.5767\n",
      "Epoch  2, CIFAR-10 Batch 2:  Train acc: 0.5750, Train cost: 1.3808\tVal acc: 0.4510, Val cost: 1.5602\n",
      "Epoch  2, CIFAR-10 Batch 3:  Train acc: 0.5000, Train cost: 1.4279\tVal acc: 0.4526, Val cost: 1.5372\n",
      "Epoch  2, CIFAR-10 Batch 4:  Train acc: 0.4500, Train cost: 1.5068\tVal acc: 0.4568, Val cost: 1.5311\n",
      "Epoch  2, CIFAR-10 Batch 5:  Train acc: 0.4500, Train cost: 1.5317\tVal acc: 0.4698, Val cost: 1.4930\n",
      "Epoch  3, CIFAR-10 Batch 1:  Train acc: 0.3750, Train cost: 1.6702\tVal acc: 0.4730, Val cost: 1.4953\n",
      "Epoch  3, CIFAR-10 Batch 2:  Train acc: 0.6250, Train cost: 1.2604\tVal acc: 0.4826, Val cost: 1.4781\n",
      "Epoch  3, CIFAR-10 Batch 3:  Train acc: 0.5250, Train cost: 1.2914\tVal acc: 0.4848, Val cost: 1.4560\n",
      "Epoch  3, CIFAR-10 Batch 4:  Train acc: 0.5000, Train cost: 1.4549\tVal acc: 0.4740, Val cost: 1.4749\n",
      "Epoch  3, CIFAR-10 Batch 5:  Train acc: 0.5250, Train cost: 1.4706\tVal acc: 0.4914, Val cost: 1.4482\n",
      "Epoch  4, CIFAR-10 Batch 1:  Train acc: 0.4750, Train cost: 1.5177\tVal acc: 0.4856, Val cost: 1.4643\n",
      "Epoch  4, CIFAR-10 Batch 2:  Train acc: 0.6250, Train cost: 1.1874\tVal acc: 0.5010, Val cost: 1.4317\n",
      "Epoch  4, CIFAR-10 Batch 3:  Train acc: 0.5500, Train cost: 1.2035\tVal acc: 0.4972, Val cost: 1.4170\n",
      "Epoch  4, CIFAR-10 Batch 4:  Train acc: 0.5250, Train cost: 1.3684\tVal acc: 0.5036, Val cost: 1.4192\n",
      "Epoch  4, CIFAR-10 Batch 5:  Train acc: 0.5500, Train cost: 1.4120\tVal acc: 0.5058, Val cost: 1.4083\n",
      "Epoch  5, CIFAR-10 Batch 1:  Train acc: 0.5250, Train cost: 1.4398\tVal acc: 0.5056, Val cost: 1.4101\n",
      "Epoch  5, CIFAR-10 Batch 2:  Train acc: 0.6250, Train cost: 1.1308\tVal acc: 0.5118, Val cost: 1.3954\n",
      "Epoch  5, CIFAR-10 Batch 3:  Train acc: 0.6500, Train cost: 1.1297\tVal acc: 0.5116, Val cost: 1.3845\n",
      "Epoch  5, CIFAR-10 Batch 4:  Train acc: 0.5750, Train cost: 1.3124\tVal acc: 0.5066, Val cost: 1.3917\n",
      "Epoch  5, CIFAR-10 Batch 5:  Train acc: 0.5500, Train cost: 1.3511\tVal acc: 0.5136, Val cost: 1.3816\n",
      "Epoch  6, CIFAR-10 Batch 1:  Train acc: 0.6000, Train cost: 1.3804\tVal acc: 0.5154, Val cost: 1.3895\n",
      "Epoch  6, CIFAR-10 Batch 2:  Train acc: 0.6750, Train cost: 1.0927\tVal acc: 0.5212, Val cost: 1.3663\n",
      "Epoch  6, CIFAR-10 Batch 3:  Train acc: 0.6500, Train cost: 1.0623\tVal acc: 0.5208, Val cost: 1.3700\n",
      "Epoch  6, CIFAR-10 Batch 4:  Train acc: 0.6000, Train cost: 1.2760\tVal acc: 0.5092, Val cost: 1.3840\n",
      "Epoch  6, CIFAR-10 Batch 5:  Train acc: 0.6250, Train cost: 1.2883\tVal acc: 0.5274, Val cost: 1.3604\n",
      "Epoch  7, CIFAR-10 Batch 1:  Train acc: 0.6000, Train cost: 1.3479\tVal acc: 0.5256, Val cost: 1.3709\n",
      "Epoch  7, CIFAR-10 Batch 2:  Train acc: 0.7250, Train cost: 1.0484\tVal acc: 0.5314, Val cost: 1.3500\n",
      "Epoch  7, CIFAR-10 Batch 3:  Train acc: 0.6750, Train cost: 1.0118\tVal acc: 0.5190, Val cost: 1.3589\n",
      "Epoch  7, CIFAR-10 Batch 4:  Train acc: 0.6500, Train cost: 1.2119\tVal acc: 0.5252, Val cost: 1.3530\n",
      "Epoch  7, CIFAR-10 Batch 5:  Train acc: 0.6750, Train cost: 1.2246\tVal acc: 0.5318, Val cost: 1.3409\n",
      "Epoch  8, CIFAR-10 Batch 1:  Train acc: 0.6250, Train cost: 1.3169\tVal acc: 0.5302, Val cost: 1.3543\n",
      "Epoch  8, CIFAR-10 Batch 2:  Train acc: 0.6750, Train cost: 1.0123\tVal acc: 0.5306, Val cost: 1.3329\n",
      "Epoch  8, CIFAR-10 Batch 3:  Train acc: 0.7000, Train cost: 0.9705\tVal acc: 0.5336, Val cost: 1.3365\n",
      "Epoch  8, CIFAR-10 Batch 4:  Train acc: 0.6750, Train cost: 1.1676\tVal acc: 0.5308, Val cost: 1.3374\n",
      "Epoch  8, CIFAR-10 Batch 5:  Train acc: 0.6750, Train cost: 1.1900\tVal acc: 0.5334, Val cost: 1.3311\n",
      "Epoch  9, CIFAR-10 Batch 1:  Train acc: 0.6250, Train cost: 1.2575\tVal acc: 0.5312, Val cost: 1.3496\n",
      "Epoch  9, CIFAR-10 Batch 2:  Train acc: 0.7250, Train cost: 0.9708\tVal acc: 0.5388, Val cost: 1.3272\n",
      "Epoch  9, CIFAR-10 Batch 3:  Train acc: 0.6750, Train cost: 0.9394\tVal acc: 0.5312, Val cost: 1.3273\n",
      "Epoch  9, CIFAR-10 Batch 4:  Train acc: 0.6750, Train cost: 1.1187\tVal acc: 0.5378, Val cost: 1.3210\n",
      "Epoch  9, CIFAR-10 Batch 5:  Train acc: 0.6500, Train cost: 1.1481\tVal acc: 0.5454, Val cost: 1.3081\n",
      "Epoch 10, CIFAR-10 Batch 1:  Train acc: 0.6000, Train cost: 1.2463\tVal acc: 0.5356, Val cost: 1.3361\n",
      "Epoch 10, CIFAR-10 Batch 2:  Train acc: 0.7500, Train cost: 0.9496\tVal acc: 0.5474, Val cost: 1.3061\n",
      "Epoch 10, CIFAR-10 Batch 3:  Train acc: 0.6500, Train cost: 0.9097\tVal acc: 0.5400, Val cost: 1.3112\n",
      "Epoch 10, CIFAR-10 Batch 4:  Train acc: 0.6500, Train cost: 1.0915\tVal acc: 0.5406, Val cost: 1.3146\n",
      "Epoch 10, CIFAR-10 Batch 5:  Train acc: 0.7000, Train cost: 1.1005\tVal acc: 0.5452, Val cost: 1.2980\n",
      "Epoch 11, CIFAR-10 Batch 1:  Train acc: 0.7000, Train cost: 1.2018\tVal acc: 0.5452, Val cost: 1.3151\n",
      "Epoch 11, CIFAR-10 Batch 2:  Train acc: 0.7000, Train cost: 0.9077\tVal acc: 0.5462, Val cost: 1.3034\n",
      "Epoch 11, CIFAR-10 Batch 3:  Train acc: 0.7000, Train cost: 0.8651\tVal acc: 0.5370, Val cost: 1.3149\n",
      "Epoch 11, CIFAR-10 Batch 4:  Train acc: 0.6500, Train cost: 1.0390\tVal acc: 0.5424, Val cost: 1.2987\n",
      "Epoch 11, CIFAR-10 Batch 5:  Train acc: 0.7000, Train cost: 1.0402\tVal acc: 0.5514, Val cost: 1.2885\n",
      "Epoch 12, CIFAR-10 Batch 1:  Train acc: 0.6500, Train cost: 1.1682\tVal acc: 0.5508, Val cost: 1.2964\n",
      "Epoch 12, CIFAR-10 Batch 2:  Train acc: 0.7250, Train cost: 0.8784\tVal acc: 0.5434, Val cost: 1.3042\n",
      "Epoch 12, CIFAR-10 Batch 3:  Train acc: 0.7000, Train cost: 0.8501\tVal acc: 0.5382, Val cost: 1.3028\n",
      "Epoch 12, CIFAR-10 Batch 4:  Train acc: 0.6500, Train cost: 1.0169\tVal acc: 0.5436, Val cost: 1.2905\n",
      "Epoch 12, CIFAR-10 Batch 5:  Train acc: 0.7000, Train cost: 1.0014\tVal acc: 0.5526, Val cost: 1.2811\n",
      "Epoch 13, CIFAR-10 Batch 1:  Train acc: 0.6750, Train cost: 1.1226\tVal acc: 0.5502, Val cost: 1.2959\n",
      "Epoch 13, CIFAR-10 Batch 2:  Train acc: 0.7000, Train cost: 0.8586\tVal acc: 0.5544, Val cost: 1.2862\n",
      "Epoch 13, CIFAR-10 Batch 3:  Train acc: 0.7750, Train cost: 0.8245\tVal acc: 0.5458, Val cost: 1.2885\n",
      "Epoch 13, CIFAR-10 Batch 4:  Train acc: 0.7250, Train cost: 0.9564\tVal acc: 0.5500, Val cost: 1.2799\n",
      "Epoch 13, CIFAR-10 Batch 5:  Train acc: 0.7500, Train cost: 0.9813\tVal acc: 0.5586, Val cost: 1.2667\n",
      "Epoch 14, CIFAR-10 Batch 1:  Train acc: 0.7000, Train cost: 1.0995\tVal acc: 0.5618, Val cost: 1.2752\n",
      "Epoch 14, CIFAR-10 Batch 2:  Train acc: 0.7250, Train cost: 0.8342\tVal acc: 0.5560, Val cost: 1.2765\n",
      "Epoch 14, CIFAR-10 Batch 3:  Train acc: 0.7500, Train cost: 0.7936\tVal acc: 0.5528, Val cost: 1.2788\n",
      "Epoch 14, CIFAR-10 Batch 4:  Train acc: 0.7000, Train cost: 0.9463\tVal acc: 0.5532, Val cost: 1.2717\n",
      "Epoch 14, CIFAR-10 Batch 5:  Train acc: 0.7750, Train cost: 0.9466\tVal acc: 0.5598, Val cost: 1.2580\n",
      "Epoch 15, CIFAR-10 Batch 1:  Train acc: 0.6250, Train cost: 1.0881\tVal acc: 0.5624, Val cost: 1.2713\n",
      "Epoch 15, CIFAR-10 Batch 2:  Train acc: 0.8000, Train cost: 0.7898\tVal acc: 0.5618, Val cost: 1.2663\n",
      "Epoch 15, CIFAR-10 Batch 3:  Train acc: 0.7750, Train cost: 0.7722\tVal acc: 0.5520, Val cost: 1.2737\n",
      "Epoch 15, CIFAR-10 Batch 4:  Train acc: 0.7250, Train cost: 0.8971\tVal acc: 0.5602, Val cost: 1.2552\n",
      "Epoch 15, CIFAR-10 Batch 5:  Train acc: 0.8000, Train cost: 0.9212\tVal acc: 0.5614, Val cost: 1.2492\n",
      "Epoch 16, CIFAR-10 Batch 1:  Train acc: 0.6500, Train cost: 1.0346\tVal acc: 0.5584, Val cost: 1.2675\n",
      "Epoch 16, CIFAR-10 Batch 2:  Train acc: 0.7750, Train cost: 0.7690\tVal acc: 0.5576, Val cost: 1.2711\n",
      "Epoch 16, CIFAR-10 Batch 3:  Train acc: 0.8000, Train cost: 0.7609\tVal acc: 0.5606, Val cost: 1.2596\n",
      "Epoch 16, CIFAR-10 Batch 4:  Train acc: 0.7750, Train cost: 0.8593\tVal acc: 0.5564, Val cost: 1.2522\n",
      "Epoch 16, CIFAR-10 Batch 5:  Train acc: 0.8000, Train cost: 0.8963\tVal acc: 0.5676, Val cost: 1.2440\n",
      "Epoch 17, CIFAR-10 Batch 1:  Train acc: 0.6750, Train cost: 1.0083\tVal acc: 0.5658, Val cost: 1.2558\n",
      "Epoch 17, CIFAR-10 Batch 2:  Train acc: 0.7500, Train cost: 0.7511\tVal acc: 0.5606, Val cost: 1.2555\n",
      "Epoch 17, CIFAR-10 Batch 3:  Train acc: 0.7500, Train cost: 0.7236\tVal acc: 0.5478, Val cost: 1.2859\n",
      "Epoch 17, CIFAR-10 Batch 4:  Train acc: 0.7000, Train cost: 0.8499\tVal acc: 0.5624, Val cost: 1.2478\n",
      "Epoch 17, CIFAR-10 Batch 5:  Train acc: 0.8000, Train cost: 0.8860\tVal acc: 0.5676, Val cost: 1.2404\n",
      "Epoch 18, CIFAR-10 Batch 1:  Train acc: 0.6500, Train cost: 0.9853\tVal acc: 0.5690, Val cost: 1.2551\n",
      "Epoch 18, CIFAR-10 Batch 2:  Train acc: 0.8250, Train cost: 0.7172\tVal acc: 0.5652, Val cost: 1.2488\n",
      "Epoch 18, CIFAR-10 Batch 3:  Train acc: 0.7750, Train cost: 0.7193\tVal acc: 0.5618, Val cost: 1.2546\n",
      "Epoch 18, CIFAR-10 Batch 4:  Train acc: 0.7250, Train cost: 0.8170\tVal acc: 0.5662, Val cost: 1.2386\n",
      "Epoch 18, CIFAR-10 Batch 5:  Train acc: 0.8000, Train cost: 0.8382\tVal acc: 0.5694, Val cost: 1.2305\n",
      "Epoch 19, CIFAR-10 Batch 1:  Train acc: 0.6500, Train cost: 0.9515\tVal acc: 0.5634, Val cost: 1.2494\n",
      "Epoch 19, CIFAR-10 Batch 2:  Train acc: 0.8500, Train cost: 0.7041\tVal acc: 0.5638, Val cost: 1.2437\n",
      "Epoch 19, CIFAR-10 Batch 3:  Train acc: 0.8250, Train cost: 0.6990\tVal acc: 0.5638, Val cost: 1.2490\n",
      "Epoch 19, CIFAR-10 Batch 4:  Train acc: 0.7750, Train cost: 0.7949\tVal acc: 0.5678, Val cost: 1.2344\n",
      "Epoch 19, CIFAR-10 Batch 5:  Train acc: 0.8000, Train cost: 0.8247\tVal acc: 0.5700, Val cost: 1.2239\n",
      "Epoch 20, CIFAR-10 Batch 1:  Train acc: 0.6750, Train cost: 0.9166\tVal acc: 0.5686, Val cost: 1.2381\n",
      "Epoch 20, CIFAR-10 Batch 2:  Train acc: 0.8250, Train cost: 0.6855\tVal acc: 0.5634, Val cost: 1.2422\n",
      "Epoch 20, CIFAR-10 Batch 3:  Train acc: 0.8250, Train cost: 0.7048\tVal acc: 0.5624, Val cost: 1.2520\n",
      "Epoch 20, CIFAR-10 Batch 4:  Train acc: 0.7750, Train cost: 0.7869\tVal acc: 0.5692, Val cost: 1.2285\n",
      "Epoch 20, CIFAR-10 Batch 5:  Train acc: 0.7750, Train cost: 0.8160\tVal acc: 0.5710, Val cost: 1.2240\n",
      "Epoch 21, CIFAR-10 Batch 1:  Train acc: 0.7250, Train cost: 0.9136\tVal acc: 0.5696, Val cost: 1.2354\n",
      "Epoch 21, CIFAR-10 Batch 2:  Train acc: 0.9000, Train cost: 0.6522\tVal acc: 0.5678, Val cost: 1.2433\n",
      "Epoch 21, CIFAR-10 Batch 3:  Train acc: 0.8500, Train cost: 0.6715\tVal acc: 0.5642, Val cost: 1.2573\n",
      "Epoch 21, CIFAR-10 Batch 4:  Train acc: 0.8500, Train cost: 0.7423\tVal acc: 0.5692, Val cost: 1.2236\n",
      "Epoch 21, CIFAR-10 Batch 5:  Train acc: 0.8000, Train cost: 0.7828\tVal acc: 0.5754, Val cost: 1.2168\n",
      "Epoch 22, CIFAR-10 Batch 1:  Train acc: 0.7500, Train cost: 0.8694\tVal acc: 0.5678, Val cost: 1.2373\n",
      "Epoch 22, CIFAR-10 Batch 2:  Train acc: 0.9000, Train cost: 0.6325\tVal acc: 0.5680, Val cost: 1.2419\n",
      "Epoch 22, CIFAR-10 Batch 3:  Train acc: 0.8250, Train cost: 0.6393\tVal acc: 0.5648, Val cost: 1.2496\n",
      "Epoch 22, CIFAR-10 Batch 4:  Train acc: 0.7750, Train cost: 0.7358\tVal acc: 0.5666, Val cost: 1.2294\n",
      "Epoch 22, CIFAR-10 Batch 5:  Train acc: 0.7750, Train cost: 0.7726\tVal acc: 0.5710, Val cost: 1.2184\n",
      "Epoch 23, CIFAR-10 Batch 1:  Train acc: 0.7250, Train cost: 0.8577\tVal acc: 0.5738, Val cost: 1.2290\n",
      "Epoch 23, CIFAR-10 Batch 2:  Train acc: 0.8500, Train cost: 0.6277\tVal acc: 0.5712, Val cost: 1.2367\n",
      "Epoch 23, CIFAR-10 Batch 3:  Train acc: 0.8000, Train cost: 0.6400\tVal acc: 0.5614, Val cost: 1.2538\n",
      "Epoch 23, CIFAR-10 Batch 4:  Train acc: 0.7750, Train cost: 0.7373\tVal acc: 0.5704, Val cost: 1.2319\n",
      "Epoch 23, CIFAR-10 Batch 5:  Train acc: 0.8250, Train cost: 0.7577\tVal acc: 0.5736, Val cost: 1.2145\n",
      "Epoch 24, CIFAR-10 Batch 1:  Train acc: 0.7000, Train cost: 0.8601\tVal acc: 0.5710, Val cost: 1.2231\n",
      "Epoch 24, CIFAR-10 Batch 2:  Train acc: 0.9000, Train cost: 0.6105\tVal acc: 0.5730, Val cost: 1.2336\n",
      "Epoch 24, CIFAR-10 Batch 3:  Train acc: 0.8250, Train cost: 0.6036\tVal acc: 0.5654, Val cost: 1.2528\n",
      "Epoch 24, CIFAR-10 Batch 4:  Train acc: 0.8000, Train cost: 0.7198\tVal acc: 0.5726, Val cost: 1.2273\n",
      "Epoch 24, CIFAR-10 Batch 5:  Train acc: 0.8250, Train cost: 0.7292\tVal acc: 0.5780, Val cost: 1.2087\n",
      "Epoch 25, CIFAR-10 Batch 1:  Train acc: 0.8000, Train cost: 0.8169\tVal acc: 0.5732, Val cost: 1.2199\n",
      "Epoch 25, CIFAR-10 Batch 2:  Train acc: 0.9000, Train cost: 0.5927\tVal acc: 0.5692, Val cost: 1.2353\n",
      "Epoch 25, CIFAR-10 Batch 3:  Train acc: 0.8250, Train cost: 0.6120\tVal acc: 0.5740, Val cost: 1.2338\n",
      "Epoch 25, CIFAR-10 Batch 4:  Train acc: 0.8250, Train cost: 0.6827\tVal acc: 0.5728, Val cost: 1.2285\n",
      "Epoch 25, CIFAR-10 Batch 5:  Train acc: 0.8250, Train cost: 0.7352\tVal acc: 0.5750, Val cost: 1.2117\n",
      "Epoch 26, CIFAR-10 Batch 1:  Train acc: 0.8000, Train cost: 0.8044\tVal acc: 0.5770, Val cost: 1.2161\n",
      "Epoch 26, CIFAR-10 Batch 2:  Train acc: 0.9250, Train cost: 0.5754\tVal acc: 0.5718, Val cost: 1.2339\n",
      "Epoch 26, CIFAR-10 Batch 3:  Train acc: 0.8250, Train cost: 0.5992\tVal acc: 0.5662, Val cost: 1.2458\n",
      "Epoch 26, CIFAR-10 Batch 4:  Train acc: 0.8000, Train cost: 0.6683\tVal acc: 0.5724, Val cost: 1.2306\n",
      "Epoch 26, CIFAR-10 Batch 5:  Train acc: 0.8250, Train cost: 0.7123\tVal acc: 0.5760, Val cost: 1.2123\n",
      "Epoch 27, CIFAR-10 Batch 1:  Train acc: 0.7750, Train cost: 0.8085\tVal acc: 0.5704, Val cost: 1.2259\n",
      "Epoch 27, CIFAR-10 Batch 2:  Train acc: 0.9000, Train cost: 0.5663\tVal acc: 0.5728, Val cost: 1.2323\n",
      "Epoch 27, CIFAR-10 Batch 3:  Train acc: 0.8250, Train cost: 0.5621\tVal acc: 0.5668, Val cost: 1.2384\n",
      "Epoch 27, CIFAR-10 Batch 4:  Train acc: 0.8500, Train cost: 0.6268\tVal acc: 0.5808, Val cost: 1.2127\n",
      "Epoch 27, CIFAR-10 Batch 5:  Train acc: 0.8500, Train cost: 0.6896\tVal acc: 0.5800, Val cost: 1.2071\n",
      "Epoch 28, CIFAR-10 Batch 1:  Train acc: 0.7750, Train cost: 0.7738\tVal acc: 0.5746, Val cost: 1.2170\n",
      "Epoch 28, CIFAR-10 Batch 2:  Train acc: 0.9250, Train cost: 0.5537\tVal acc: 0.5754, Val cost: 1.2254\n",
      "Epoch 28, CIFAR-10 Batch 3:  Train acc: 0.8500, Train cost: 0.5474\tVal acc: 0.5756, Val cost: 1.2325\n",
      "Epoch 28, CIFAR-10 Batch 4:  Train acc: 0.9000, Train cost: 0.6133\tVal acc: 0.5782, Val cost: 1.2154\n",
      "Epoch 28, CIFAR-10 Batch 5:  Train acc: 0.8250, Train cost: 0.6910\tVal acc: 0.5778, Val cost: 1.2109\n",
      "Epoch 29, CIFAR-10 Batch 1:  Train acc: 0.7750, Train cost: 0.7756\tVal acc: 0.5796, Val cost: 1.2144\n",
      "Epoch 29, CIFAR-10 Batch 2:  Train acc: 0.9250, Train cost: 0.5462\tVal acc: 0.5706, Val cost: 1.2338\n",
      "Epoch 29, CIFAR-10 Batch 3:  Train acc: 0.8500, Train cost: 0.5529\tVal acc: 0.5780, Val cost: 1.2224\n",
      "Epoch 29, CIFAR-10 Batch 4:  Train acc: 0.9000, Train cost: 0.6039\tVal acc: 0.5846, Val cost: 1.2118\n",
      "Epoch 29, CIFAR-10 Batch 5:  Train acc: 0.8500, Train cost: 0.6689\tVal acc: 0.5818, Val cost: 1.2053\n",
      "Epoch 30, CIFAR-10 Batch 1:  Train acc: 0.8250, Train cost: 0.7524\tVal acc: 0.5750, Val cost: 1.2084\n",
      "Epoch 30, CIFAR-10 Batch 2:  Train acc: 0.9250, Train cost: 0.5534\tVal acc: 0.5710, Val cost: 1.2266\n",
      "Epoch 30, CIFAR-10 Batch 3:  Train acc: 0.9000, Train cost: 0.5232\tVal acc: 0.5746, Val cost: 1.2327\n",
      "Epoch 30, CIFAR-10 Batch 4:  Train acc: 0.9000, Train cost: 0.5960\tVal acc: 0.5840, Val cost: 1.2134\n",
      "Epoch 30, CIFAR-10 Batch 5:  Train acc: 0.8500, Train cost: 0.6501\tVal acc: 0.5788, Val cost: 1.2107\n",
      "Epoch 31, CIFAR-10 Batch 1:  Train acc: 0.8750, Train cost: 0.7123\tVal acc: 0.5750, Val cost: 1.2155\n",
      "Epoch 31, CIFAR-10 Batch 2:  Train acc: 0.9250, Train cost: 0.5236\tVal acc: 0.5724, Val cost: 1.2338\n",
      "Epoch 31, CIFAR-10 Batch 3:  Train acc: 0.9000, Train cost: 0.5320\tVal acc: 0.5802, Val cost: 1.2186\n",
      "Epoch 31, CIFAR-10 Batch 4:  Train acc: 0.9000, Train cost: 0.5789\tVal acc: 0.5818, Val cost: 1.2082\n",
      "Epoch 31, CIFAR-10 Batch 5:  Train acc: 0.8500, Train cost: 0.6510\tVal acc: 0.5724, Val cost: 1.2214\n",
      "Epoch 32, CIFAR-10 Batch 1:  Train acc: 0.8500, Train cost: 0.7245\tVal acc: 0.5770, Val cost: 1.2111\n",
      "Epoch 32, CIFAR-10 Batch 2:  Train acc: 0.9500, Train cost: 0.5133\tVal acc: 0.5708, Val cost: 1.2277\n",
      "Epoch 32, CIFAR-10 Batch 3:  Train acc: 0.8750, Train cost: 0.5119\tVal acc: 0.5702, Val cost: 1.2374\n",
      "Epoch 32, CIFAR-10 Batch 4:  Train acc: 0.9250, Train cost: 0.5483\tVal acc: 0.5846, Val cost: 1.2041\n",
      "Epoch 32, CIFAR-10 Batch 5:  Train acc: 0.8750, Train cost: 0.6304\tVal acc: 0.5812, Val cost: 1.2014\n",
      "Epoch 33, CIFAR-10 Batch 1:  Train acc: 0.8000, Train cost: 0.7108\tVal acc: 0.5770, Val cost: 1.2071\n",
      "Epoch 33, CIFAR-10 Batch 2:  Train acc: 0.9500, Train cost: 0.4956\tVal acc: 0.5740, Val cost: 1.2147\n",
      "Epoch 33, CIFAR-10 Batch 3:  Train acc: 0.9000, Train cost: 0.4949\tVal acc: 0.5754, Val cost: 1.2344\n",
      "Epoch 33, CIFAR-10 Batch 4:  Train acc: 0.9000, Train cost: 0.5536\tVal acc: 0.5796, Val cost: 1.2174\n",
      "Epoch 33, CIFAR-10 Batch 5:  Train acc: 0.9000, Train cost: 0.6112\tVal acc: 0.5838, Val cost: 1.1927\n",
      "Epoch 34, CIFAR-10 Batch 1:  Train acc: 0.8000, Train cost: 0.7019\tVal acc: 0.5742, Val cost: 1.2139\n",
      "Epoch 34, CIFAR-10 Batch 2:  Train acc: 0.9500, Train cost: 0.4821\tVal acc: 0.5808, Val cost: 1.2122\n",
      "Epoch 34, CIFAR-10 Batch 3:  Train acc: 0.8500, Train cost: 0.5019\tVal acc: 0.5774, Val cost: 1.2302\n",
      "Epoch 34, CIFAR-10 Batch 4:  Train acc: 0.9250, Train cost: 0.5291\tVal acc: 0.5796, Val cost: 1.2118\n",
      "Epoch 34, CIFAR-10 Batch 5:  Train acc: 0.8250, Train cost: 0.6103\tVal acc: 0.5826, Val cost: 1.2006\n",
      "Epoch 35, CIFAR-10 Batch 1:  Train acc: 0.8250, Train cost: 0.6929\tVal acc: 0.5772, Val cost: 1.2067\n",
      "Epoch 35, CIFAR-10 Batch 2:  Train acc: 0.9500, Train cost: 0.4787\tVal acc: 0.5772, Val cost: 1.2219\n",
      "Epoch 35, CIFAR-10 Batch 3:  Train acc: 0.8750, Train cost: 0.4906\tVal acc: 0.5792, Val cost: 1.2278\n",
      "Epoch 35, CIFAR-10 Batch 4:  Train acc: 0.9250, Train cost: 0.5517\tVal acc: 0.5798, Val cost: 1.2114\n",
      "Epoch 35, CIFAR-10 Batch 5:  Train acc: 0.8750, Train cost: 0.6097\tVal acc: 0.5758, Val cost: 1.2140\n",
      "Epoch 36, CIFAR-10 Batch 1:  Train acc: 0.8500, Train cost: 0.6593\tVal acc: 0.5778, Val cost: 1.2003\n",
      "Epoch 36, CIFAR-10 Batch 2:  Train acc: 0.9250, Train cost: 0.4842\tVal acc: 0.5752, Val cost: 1.2139\n",
      "Epoch 36, CIFAR-10 Batch 3:  Train acc: 0.8750, Train cost: 0.5033\tVal acc: 0.5740, Val cost: 1.2268\n",
      "Epoch 36, CIFAR-10 Batch 4:  Train acc: 0.9250, Train cost: 0.5237\tVal acc: 0.5846, Val cost: 1.2099\n",
      "Epoch 36, CIFAR-10 Batch 5:  Train acc: 0.8500, Train cost: 0.5884\tVal acc: 0.5824, Val cost: 1.1988\n",
      "Epoch 37, CIFAR-10 Batch 1:  Train acc: 0.8500, Train cost: 0.6413\tVal acc: 0.5772, Val cost: 1.2081\n",
      "Epoch 37, CIFAR-10 Batch 2:  Train acc: 0.9500, Train cost: 0.4601\tVal acc: 0.5764, Val cost: 1.2095\n",
      "Epoch 37, CIFAR-10 Batch 3:  Train acc: 0.8750, Train cost: 0.4769\tVal acc: 0.5796, Val cost: 1.2251\n",
      "Epoch 37, CIFAR-10 Batch 4:  Train acc: 0.9250, Train cost: 0.5059\tVal acc: 0.5834, Val cost: 1.2049\n",
      "Epoch 37, CIFAR-10 Batch 5:  Train acc: 0.9000, Train cost: 0.5671\tVal acc: 0.5798, Val cost: 1.1962\n",
      "Epoch 38, CIFAR-10 Batch 1:  Train acc: 0.8750, Train cost: 0.6455\tVal acc: 0.5752, Val cost: 1.2141\n",
      "Epoch 38, CIFAR-10 Batch 2:  Train acc: 0.9500, Train cost: 0.4627\tVal acc: 0.5726, Val cost: 1.2153\n",
      "Epoch 38, CIFAR-10 Batch 3:  Train acc: 0.8750, Train cost: 0.4678\tVal acc: 0.5770, Val cost: 1.2285\n",
      "Epoch 38, CIFAR-10 Batch 4:  Train acc: 0.9250, Train cost: 0.4853\tVal acc: 0.5868, Val cost: 1.1979\n",
      "Epoch 38, CIFAR-10 Batch 5:  Train acc: 0.8750, Train cost: 0.5753\tVal acc: 0.5806, Val cost: 1.1924\n",
      "Epoch 39, CIFAR-10 Batch 1:  Train acc: 0.9000, Train cost: 0.6091\tVal acc: 0.5754, Val cost: 1.2045\n",
      "Epoch 39, CIFAR-10 Batch 2:  Train acc: 0.9500, Train cost: 0.4548\tVal acc: 0.5740, Val cost: 1.2150\n",
      "Epoch 39, CIFAR-10 Batch 3:  Train acc: 0.9250, Train cost: 0.4631\tVal acc: 0.5776, Val cost: 1.2343\n",
      "Epoch 39, CIFAR-10 Batch 4:  Train acc: 0.9250, Train cost: 0.4929\tVal acc: 0.5818, Val cost: 1.2070\n",
      "Epoch 39, CIFAR-10 Batch 5:  Train acc: 0.9000, Train cost: 0.5792\tVal acc: 0.5800, Val cost: 1.1998\n",
      "Epoch 40, CIFAR-10 Batch 1:  Train acc: 0.9000, Train cost: 0.6336\tVal acc: 0.5734, Val cost: 1.2145\n",
      "Epoch 40, CIFAR-10 Batch 2:  Train acc: 0.9500, Train cost: 0.4639\tVal acc: 0.5746, Val cost: 1.2226\n",
      "Epoch 40, CIFAR-10 Batch 3:  Train acc: 0.9250, Train cost: 0.4591\tVal acc: 0.5768, Val cost: 1.2254\n",
      "Epoch 40, CIFAR-10 Batch 4:  Train acc: 0.9500, Train cost: 0.4637\tVal acc: 0.5870, Val cost: 1.1993\n",
      "Epoch 40, CIFAR-10 Batch 5:  Train acc: 0.9000, Train cost: 0.5526\tVal acc: 0.5826, Val cost: 1.1989\n",
      "Epoch 41, CIFAR-10 Batch 1:  Train acc: 0.8250, Train cost: 0.6415\tVal acc: 0.5770, Val cost: 1.2071\n",
      "Epoch 41, CIFAR-10 Batch 2:  Train acc: 0.9500, Train cost: 0.4325\tVal acc: 0.5766, Val cost: 1.2139\n",
      "Epoch 41, CIFAR-10 Batch 3:  Train acc: 0.9250, Train cost: 0.4530\tVal acc: 0.5792, Val cost: 1.2332\n",
      "Epoch 41, CIFAR-10 Batch 4:  Train acc: 0.9250, Train cost: 0.4755\tVal acc: 0.5880, Val cost: 1.1960\n",
      "Epoch 41, CIFAR-10 Batch 5:  Train acc: 0.8750, Train cost: 0.5503\tVal acc: 0.5814, Val cost: 1.1987\n",
      "Epoch 42, CIFAR-10 Batch 1:  Train acc: 0.8250, Train cost: 0.6366\tVal acc: 0.5822, Val cost: 1.2093\n",
      "Epoch 42, CIFAR-10 Batch 2:  Train acc: 0.9500, Train cost: 0.4294\tVal acc: 0.5736, Val cost: 1.2259\n",
      "Epoch 42, CIFAR-10 Batch 3:  Train acc: 0.8750, Train cost: 0.4463\tVal acc: 0.5796, Val cost: 1.2218\n",
      "Epoch 42, CIFAR-10 Batch 4:  Train acc: 0.9500, Train cost: 0.4559\tVal acc: 0.5854, Val cost: 1.2055\n",
      "Epoch 42, CIFAR-10 Batch 5:  Train acc: 0.9250, Train cost: 0.5488\tVal acc: 0.5790, Val cost: 1.2028\n",
      "Epoch 43, CIFAR-10 Batch 1:  Train acc: 0.8750, Train cost: 0.6119\tVal acc: 0.5774, Val cost: 1.2066\n",
      "Epoch 43, CIFAR-10 Batch 2:  Train acc: 0.9500, Train cost: 0.4363\tVal acc: 0.5778, Val cost: 1.2155\n",
      "Epoch 43, CIFAR-10 Batch 3:  Train acc: 0.9000, Train cost: 0.4303\tVal acc: 0.5758, Val cost: 1.2325\n",
      "Epoch 43, CIFAR-10 Batch 4:  Train acc: 0.9500, Train cost: 0.4499\tVal acc: 0.5892, Val cost: 1.1968\n",
      "Epoch 43, CIFAR-10 Batch 5:  Train acc: 0.9000, Train cost: 0.5325\tVal acc: 0.5850, Val cost: 1.1982\n",
      "Epoch 44, CIFAR-10 Batch 1:  Train acc: 0.9000, Train cost: 0.5925\tVal acc: 0.5828, Val cost: 1.2002\n",
      "Epoch 44, CIFAR-10 Batch 2:  Train acc: 0.9500, Train cost: 0.4179\tVal acc: 0.5798, Val cost: 1.2061\n",
      "Epoch 44, CIFAR-10 Batch 3:  Train acc: 0.9250, Train cost: 0.4492\tVal acc: 0.5812, Val cost: 1.2176\n",
      "Epoch 44, CIFAR-10 Batch 4:  Train acc: 0.9500, Train cost: 0.4396\tVal acc: 0.5904, Val cost: 1.1988\n",
      "Epoch 44, CIFAR-10 Batch 5:  Train acc: 0.9000, Train cost: 0.5097\tVal acc: 0.5878, Val cost: 1.1897\n",
      "Epoch 45, CIFAR-10 Batch 1:  Train acc: 0.8750, Train cost: 0.5919\tVal acc: 0.5800, Val cost: 1.2079\n",
      "Epoch 45, CIFAR-10 Batch 2:  Train acc: 0.9250, Train cost: 0.4216\tVal acc: 0.5790, Val cost: 1.2101\n",
      "Epoch 45, CIFAR-10 Batch 3:  Train acc: 0.9000, Train cost: 0.4329\tVal acc: 0.5772, Val cost: 1.2290\n",
      "Epoch 45, CIFAR-10 Batch 4:  Train acc: 0.9500, Train cost: 0.4408\tVal acc: 0.5856, Val cost: 1.2017\n",
      "Epoch 45, CIFAR-10 Batch 5:  Train acc: 0.9000, Train cost: 0.5124\tVal acc: 0.5850, Val cost: 1.1997\n",
      "Epoch 46, CIFAR-10 Batch 1:  Train acc: 0.9000, Train cost: 0.5948\tVal acc: 0.5840, Val cost: 1.2041\n",
      "Epoch 46, CIFAR-10 Batch 2:  Train acc: 0.9500, Train cost: 0.4039\tVal acc: 0.5808, Val cost: 1.2106\n",
      "Epoch 46, CIFAR-10 Batch 3:  Train acc: 0.8750, Train cost: 0.4170\tVal acc: 0.5710, Val cost: 1.2429\n",
      "Epoch 46, CIFAR-10 Batch 4:  Train acc: 1.0000, Train cost: 0.4374\tVal acc: 0.5884, Val cost: 1.2024\n",
      "Epoch 46, CIFAR-10 Batch 5:  Train acc: 0.9000, Train cost: 0.5010\tVal acc: 0.5864, Val cost: 1.1926\n",
      "Epoch 47, CIFAR-10 Batch 1:  Train acc: 0.9000, Train cost: 0.5793\tVal acc: 0.5804, Val cost: 1.2056\n",
      "Epoch 47, CIFAR-10 Batch 2:  Train acc: 0.9500, Train cost: 0.3966\tVal acc: 0.5752, Val cost: 1.2171\n",
      "Epoch 47, CIFAR-10 Batch 3:  Train acc: 0.9250, Train cost: 0.4080\tVal acc: 0.5774, Val cost: 1.2463\n",
      "Epoch 47, CIFAR-10 Batch 4:  Train acc: 0.9500, Train cost: 0.4403\tVal acc: 0.5848, Val cost: 1.2025\n",
      "Epoch 47, CIFAR-10 Batch 5:  Train acc: 0.9000, Train cost: 0.5054\tVal acc: 0.5860, Val cost: 1.1873\n",
      "Epoch 48, CIFAR-10 Batch 1:  Train acc: 0.9250, Train cost: 0.5632\tVal acc: 0.5798, Val cost: 1.2056\n",
      "Epoch 48, CIFAR-10 Batch 2:  Train acc: 0.9500, Train cost: 0.4103\tVal acc: 0.5806, Val cost: 1.2119\n",
      "Epoch 48, CIFAR-10 Batch 3:  Train acc: 0.9000, Train cost: 0.4107\tVal acc: 0.5760, Val cost: 1.2352\n",
      "Epoch 48, CIFAR-10 Batch 4:  Train acc: 0.9500, Train cost: 0.4172\tVal acc: 0.5880, Val cost: 1.1935\n",
      "Epoch 48, CIFAR-10 Batch 5:  Train acc: 0.9250, Train cost: 0.4920\tVal acc: 0.5808, Val cost: 1.1981\n",
      "Epoch 49, CIFAR-10 Batch 1:  Train acc: 0.9250, Train cost: 0.5510\tVal acc: 0.5850, Val cost: 1.2024\n",
      "Epoch 49, CIFAR-10 Batch 2:  Train acc: 0.9500, Train cost: 0.4056\tVal acc: 0.5824, Val cost: 1.2058\n",
      "Epoch 49, CIFAR-10 Batch 3:  Train acc: 0.9000, Train cost: 0.4146\tVal acc: 0.5764, Val cost: 1.2398\n",
      "Epoch 49, CIFAR-10 Batch 4:  Train acc: 0.9500, Train cost: 0.4118\tVal acc: 0.5882, Val cost: 1.1963\n",
      "Epoch 49, CIFAR-10 Batch 5:  Train acc: 0.9000, Train cost: 0.5021\tVal acc: 0.5804, Val cost: 1.2029\n",
      "Epoch 50, CIFAR-10 Batch 1:  Train acc: 0.9250, Train cost: 0.5625\tVal acc: 0.5840, Val cost: 1.1969\n",
      "Epoch 50, CIFAR-10 Batch 2:  Train acc: 0.9250, Train cost: 0.4032\tVal acc: 0.5774, Val cost: 1.2160\n",
      "Epoch 50, CIFAR-10 Batch 3:  Train acc: 0.9250, Train cost: 0.4083\tVal acc: 0.5808, Val cost: 1.2217\n",
      "Epoch 50, CIFAR-10 Batch 4:  Train acc: 0.9500, Train cost: 0.4176\tVal acc: 0.5850, Val cost: 1.1936\n",
      "Epoch 50, CIFAR-10 Batch 5:  Train acc: 0.9000, Train cost: 0.4817\tVal acc: 0.5794, Val cost: 1.2013\n"
     ]
    }
   ],
   "source": [
    "\"\"\"\n",
    "DON'T MODIFY ANYTHING IN THIS CELL\n",
    "\"\"\"\n",
    "save_model_path = './image_classification'\n",
    "\n",
    "print('Training...')\n",
    "with tf.Session() as sess:\n",
    "    # Initializing the variables\n",
    "    sess.run(tf.global_variables_initializer())\n",
    "    \n",
    "    # Training cycle\n",
    "    for epoch in range(epochs):\n",
    "        # Loop over all batches\n",
    "        n_batches = 5\n",
    "        for batch_i in range(1, n_batches + 1):\n",
    "            for batch_features, batch_labels in helper.load_preprocess_training_batch(batch_i, batch_size):\n",
    "                train_neural_network(sess, optimizer, keep_probability, batch_features, batch_labels)\n",
    "            print('Epoch {:>2}, CIFAR-10 Batch {}:  '.format(epoch + 1, batch_i), end='')\n",
    "            print_stats(sess, batch_features, batch_labels, cost, accuracy)\n",
    "            \n",
    "    # Save Model\n",
    "    saver = tf.train.Saver()\n",
    "    save_path = saver.save(sess, save_model_path)"
   ]
  },
  {
   "cell_type": "markdown",
   "metadata": {
    "deletable": true,
    "editable": true
   },
   "source": [
    "# Checkpoint\n",
    "The model has been saved to disk.\n",
    "## Test Model\n",
    "Test your model against the test dataset.  This will be your final accuracy. You should have an accuracy greater than 50%. If you don't, keep tweaking the model architecture and parameters."
   ]
  },
  {
   "cell_type": "code",
   "execution_count": 18,
   "metadata": {
    "collapsed": false,
    "deletable": true,
    "editable": true
   },
   "outputs": [
    {
     "name": "stdout",
     "output_type": "stream",
     "text": [
      "Testing Accuracy: 0.59306640625\n",
      "\n"
     ]
    },
    {
     "data": {
      "image/png": "[encoded data removed]",
      "text/plain": [
       "<matplotlib.figure.Figure at 0x7f189ea9e2e8>"
      ]
     },
     "metadata": {
      "image/png": {
       "height": 319,
       "width": 355
      }
     },
     "output_type": "display_data"
    }
   ],
   "source": [
    "\"\"\"\n",
    "DON'T MODIFY ANYTHING IN THIS CELL\n",
    "\"\"\"\n",
    "%matplotlib inline\n",
    "%config InlineBackend.figure_format = 'retina'\n",
    "\n",
    "import tensorflow as tf\n",
    "import pickle\n",
    "import helper\n",
    "import random\n",
    "\n",
    "# Set batch size if not already set\n",
    "try:\n",
    "    if batch_size:\n",
    "        pass\n",
    "except NameError:\n",
    "    batch_size = 64\n",
    "\n",
    "save_model_path = './image_classification'\n",
    "n_samples = 4\n",
    "top_n_predictions = 3\n",
    "\n",
    "def test_model():\n",
    "    \"\"\"\n",
    "    Test the saved model against the test dataset\n",
    "    \"\"\"\n",
    "\n",
    "    test_features, test_labels = pickle.load(open('preprocess_training.p', mode='rb'))\n",
    "    loaded_graph = tf.Graph()\n",
    "\n",
    "    with tf.Session(graph=loaded_graph) as sess:\n",
    "        # Load model\n",
    "        loader = tf.train.import_meta_graph(save_model_path + '.meta')\n",
    "        loader.restore(sess, save_model_path)\n",
    "\n",
    "        # Get Tensors from loaded model\n",
    "        loaded_x = loaded_graph.get_tensor_by_name('x:0')\n",
    "        loaded_y = loaded_graph.get_tensor_by_name('y:0')\n",
    "        loaded_keep_prob = loaded_graph.get_tensor_by_name('keep_prob:0')\n",
    "        loaded_logits = loaded_graph.get_tensor_by_name('logits:0')\n",
    "        loaded_acc = loaded_graph.get_tensor_by_name('accuracy:0')\n",
    "        \n",
    "        # Get accuracy in batches for memory limitations\n",
    "        test_batch_acc_total = 0\n",
    "        test_batch_count = 0\n",
    "        \n",
    "        for train_feature_batch, train_label_batch in helper.batch_features_labels(test_features, test_labels, batch_size):\n",
    "            test_batch_acc_total += sess.run(\n",
    "                loaded_acc,\n",
    "                feed_dict={loaded_x: train_feature_batch, loaded_y: train_label_batch, loaded_keep_prob: 1.0})\n",
    "            test_batch_count += 1\n",
    "\n",
    "        print('Testing Accuracy: {}\\n'.format(test_batch_acc_total/test_batch_count))\n",
    "\n",
    "        # Print Random Samples\n",
    "        random_test_features, random_test_labels = tuple(zip(*random.sample(list(zip(test_features, test_labels)), n_samples)))\n",
    "        random_test_predictions = sess.run(\n",
    "            tf.nn.top_k(tf.nn.softmax(loaded_logits), top_n_predictions),\n",
    "            feed_dict={loaded_x: random_test_features, loaded_y: random_test_labels, loaded_keep_prob: 1.0})\n",
    "        helper.display_image_predictions(random_test_features, random_test_labels, random_test_predictions)\n",
    "\n",
    "\n",
    "test_model()"
   ]
  },
  {
   "cell_type": "markdown",
   "metadata": {
    "deletable": true,
    "editable": true
   },
   "source": [
    "## Why 50-70% Accuracy?\n",
    "You might be wondering why you can't get an accuracy any higher. First things first, 50% isn't bad for a simple CNN.  Pure guessing would get you 10% accuracy. However, you might notice people are getting scores [well above 70%](http://rodrigob.github.io/are_we_there_yet/build/classification_datasets_results.html#43494641522d3130).  That's because we haven't taught you all there is to know about neural networks. We still need to cover a few more techniques.\n",
    "## Submitting This Project\n",
    "When submitting this project, make sure to run all the cells before saving the notebook.  Save the notebook file as \"dlnd_image_classification.ipynb\" and save it as a HTML file under \"File\" -> \"Download as\".  Include the \"helper.py\" and \"problem_unittests.py\" files in your submission."
   ]
  }
 ],
 "metadata": {
  "kernelspec": {
   "display_name": "Python [conda env:tensorflow-old]",
   "language": "python",
   "name": "conda-env-tensorflow-old-py"
  },
  "language_info": {
   "codemirror_mode": {
    "name": "ipython",
    "version": 3
   },
   "file_extension": ".py",
   "mimetype": "text/x-python",
   "name": "python",
   "nbconvert_exporter": "python",
   "pygments_lexer": "ipython3",
   "version": "3.5.2"
  }
 },
 "nbformat": 4,
 "nbformat_minor": 0
}
