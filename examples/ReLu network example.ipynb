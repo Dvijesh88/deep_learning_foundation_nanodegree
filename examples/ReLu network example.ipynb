{
 "cells": [
  {
   "cell_type": "markdown",
   "metadata": {
    "deletable": true,
    "editable": true
   },
   "source": [
    "## Hidden Layer with ReLU activation function\n",
    "Below is an example of using the ReLU function to turn a linear single layer network into a non-linear multilayer network.\n",
    "\n",
    "The code contains comments to undertand matric multiplications step by step"
   ]
  },
  {
   "cell_type": "markdown",
   "metadata": {
    "deletable": true,
    "editable": true
   },
   "source": [
    "![](relu-network.png)"
   ]
  },
  {
   "cell_type": "code",
   "execution_count": 1,
   "metadata": {
    "collapsed": false,
    "deletable": true,
    "editable": true
   },
   "outputs": [
    {
     "name": "stdout",
     "output_type": "stream",
     "text": [
      "[[  5.10999966   8.43999958]\n",
      " [  0.           0.        ]\n",
      " [ 24.01000214  38.24000168]]\n"
     ]
    }
   ],
   "source": [
    "# Solution is available in the other \"solution.py\" tab\n",
    "import tensorflow as tf\n",
    "\n",
    "output = None\n",
    "hidden_layer_weights = [\n",
    "    [0.1, 0.2, 0.4],\n",
    "    [0.4, 0.6, 0.6],\n",
    "    [0.5, 0.9, 0.1],\n",
    "    [0.8, 0.2, 0.8]]\n",
    "out_weights = [\n",
    "    [0.1, 0.6],\n",
    "    [0.2, 0.1],\n",
    "    [0.7, 0.9]]\n",
    "\n",
    "# Weights and biases\n",
    "weights = [\n",
    "    tf.Variable(hidden_layer_weights), # For the hidden layer\n",
    "    tf.Variable(out_weights)] # For the output layer\n",
    "biases = [\n",
    "    tf.Variable(tf.zeros(3)),\n",
    "    tf.Variable(tf.zeros(2))]\n",
    "\n",
    "# Input\n",
    "features = tf.Variable([[1.0, 2.0, 3.0, 4.0], [-1.0, -2.0, -3.0, -4.0], [11.0, 12.0, 13.0, 14.0]])\n",
    "\n",
    "# Gives:\n",
    "# [[  5.60000038   4.9000001    5.10000038]\n",
    "#  [ -5.60000038  -4.9000001   -5.10000038]\n",
    "#  [ 23.59999847  23.89999962  24.10000038]]\n",
    "hidden_layer = tf.add(tf.matmul(features, weights[0]), biases[0])\n",
    "\n",
    "# Gives:\n",
    "# [[  5.60000038   4.9000001    5.10000038]\n",
    "#  [  0.           0.           0.        ]\n",
    "#  [ 23.59999847  23.89999962  24.10000038]]\n",
    "hidden_layer = tf.nn.relu(hidden_layer) # Usage of ReLu\n",
    "\n",
    "\n",
    "# Gives:\n",
    "# [[  5.11000013   8.44000053]\n",
    "#  [  0.           0.        ]\n",
    "#  [ 24.01000214  38.23999786]]\n",
    "output = tf.add(tf.matmul(hidden_layer, weights[1]), biases[1])\n",
    "\n",
    "init = tf.global_variables_initializer()\n",
    "with tf.Session() as session:\n",
    "    session.run(init)\n",
    "    out = session.run(output)\n",
    "    print(out)"
   ]
  }
 ],
 "metadata": {
  "kernelspec": {
   "display_name": "Python [conda env:tensorflow-old]",
   "language": "python",
   "name": "conda-env-tensorflow-old-py"
  },
  "language_info": {
   "codemirror_mode": {
    "name": "ipython",
    "version": 3
   },
   "file_extension": ".py",
   "mimetype": "text/x-python",
   "name": "python",
   "nbconvert_exporter": "python",
   "pygments_lexer": "ipython3",
   "version": "3.5.2"
  }
 },
 "nbformat": 4,
 "nbformat_minor": 2
}
