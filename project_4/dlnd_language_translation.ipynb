{
 "cells": [
  {
   "cell_type": "markdown",
   "metadata": {
    "collapsed": true,
    "deletable": true,
    "editable": true
   },
   "source": [
    "# Language Translation\n",
    "In this project, you’re going to take a peek into the realm of neural network machine translation.  You’ll be training a sequence to sequence model on a dataset of English and French sentences that can translate new sentences from English to French.\n",
    "## Get the Data\n",
    "Since translating the whole language of English to French will take lots of time to train, we have provided you with a small portion of the English corpus."
   ]
  },
  {
   "cell_type": "code",
   "execution_count": 1,
   "metadata": {
    "collapsed": false,
    "deletable": true,
    "editable": true
   },
   "outputs": [],
   "source": [
    "\"\"\"\n",
    "DON'T MODIFY ANYTHING IN THIS CELL\n",
    "\"\"\"\n",
    "import helper\n",
    "import problem_unittests as tests\n",
    "\n",
    "source_path = 'data/small_vocab_en'\n",
    "target_path = 'data/small_vocab_fr'\n",
    "source_text = helper.load_data(source_path)\n",
    "target_text = helper.load_data(target_path)"
   ]
  },
  {
   "cell_type": "markdown",
   "metadata": {
    "deletable": true,
    "editable": true
   },
   "source": [
    "## Explore the Data\n",
    "Play around with view_sentence_range to view different parts of the data."
   ]
  },
  {
   "cell_type": "code",
   "execution_count": 2,
   "metadata": {
    "collapsed": false,
    "deletable": true,
    "editable": true
   },
   "outputs": [
    {
     "name": "stdout",
     "output_type": "stream",
     "text": [
      "Dataset Stats\n",
      "Roughly the number of unique words: 227\n",
      "Number of sentences: 137861\n",
      "Average number of words in a sentence: 13.225277634719028\n",
      "\n",
      "English sentences 0 to 10:\n",
      "new jersey is sometimes quiet during autumn , and it is snowy in april .\n",
      "the united states is usually chilly during july , and it is usually freezing in november .\n",
      "california is usually quiet during march , and it is usually hot in june .\n",
      "the united states is sometimes mild during june , and it is cold in september .\n",
      "your least liked fruit is the grape , but my least liked is the apple .\n",
      "his favorite fruit is the orange , but my favorite is the grape .\n",
      "paris is relaxing during december , but it is usually chilly in july .\n",
      "new jersey is busy during spring , and it is never hot in march .\n",
      "our least liked fruit is the lemon , but my least liked is the grape .\n",
      "the united states is sometimes busy during january , and it is sometimes warm in november .\n",
      "\n",
      "French sentences 0 to 10:\n",
      "new jersey est parfois calme pendant l' automne , et il est neigeux en avril .\n",
      "les états-unis est généralement froid en juillet , et il gèle habituellement en novembre .\n",
      "california est généralement calme en mars , et il est généralement chaud en juin .\n",
      "les états-unis est parfois légère en juin , et il fait froid en septembre .\n",
      "votre moins aimé fruit est le raisin , mais mon moins aimé est la pomme .\n",
      "son fruit préféré est l'orange , mais mon préféré est le raisin .\n",
      "paris est relaxant en décembre , mais il est généralement froid en juillet .\n",
      "new jersey est occupé au printemps , et il est jamais chaude en mars .\n",
      "notre fruit est moins aimé le citron , mais mon moins aimé est le raisin .\n",
      "les états-unis est parfois occupé en janvier , et il est parfois chaud en novembre .\n"
     ]
    }
   ],
   "source": [
    "view_sentence_range = (0, 10)\n",
    "\n",
    "\"\"\"\n",
    "DON'T MODIFY ANYTHING IN THIS CELL\n",
    "\"\"\"\n",
    "import numpy as np\n",
    "\n",
    "print('Dataset Stats')\n",
    "print('Roughly the number of unique words: {}'.format(len({word: None for word in source_text.split()})))\n",
    "\n",
    "sentences = source_text.split('\\n')\n",
    "word_counts = [len(sentence.split()) for sentence in sentences]\n",
    "print('Number of sentences: {}'.format(len(sentences)))\n",
    "print('Average number of words in a sentence: {}'.format(np.average(word_counts)))\n",
    "\n",
    "print()\n",
    "print('English sentences {} to {}:'.format(*view_sentence_range))\n",
    "print('\\n'.join(source_text.split('\\n')[view_sentence_range[0]:view_sentence_range[1]]))\n",
    "print()\n",
    "print('French sentences {} to {}:'.format(*view_sentence_range))\n",
    "print('\\n'.join(target_text.split('\\n')[view_sentence_range[0]:view_sentence_range[1]]))"
   ]
  },
  {
   "cell_type": "markdown",
   "metadata": {
    "deletable": true,
    "editable": true
   },
   "source": [
    "## Implement Preprocessing Function\n",
    "### Text to Word Ids\n",
    "As you did with other RNNs, you must turn the text into a number so the computer can understand it. In the function `text_to_ids()`, you'll turn `source_text` and `target_text` from words to ids.  However, you need to add the `<EOS>` word id at the end of each sentence from `target_text`.  This will help the neural network predict when the sentence should end.\n",
    "\n",
    "You can get the `<EOS>` word id by doing:\n",
    "```python\n",
    "target_vocab_to_int['<EOS>']\n",
    "```\n",
    "You can get other word ids using `source_vocab_to_int` and `target_vocab_to_int`."
   ]
  },
  {
   "cell_type": "code",
   "execution_count": 3,
   "metadata": {
    "collapsed": false,
    "deletable": true,
    "editable": true
   },
   "outputs": [
    {
     "name": "stdout",
     "output_type": "stream",
     "text": [
      "Tests Passed\n"
     ]
    }
   ],
   "source": [
    "def text_to_ids(source_text, target_text, source_vocab_to_int, target_vocab_to_int):\n",
    "    \"\"\"\n",
    "    Convert source and target text to proper word ids\n",
    "    :param source_text: String that contains all the source text.\n",
    "    :param target_text: String that contains all the target text.\n",
    "    :param source_vocab_to_int: Dictionary to go from the source words to an id\n",
    "    :param target_vocab_to_int: Dictionary to go from the target words to an id\n",
    "    :return: A tuple of lists (source_id_text, target_id_text)\n",
    "    \"\"\"\n",
    "    source_text_list = source_text.split('\\n')\n",
    "    target_text_list = [sentence + ' <EOS>' for sentence in target_text.split('\\n')]\n",
    "    \n",
    "    source_ret = [None] * len(source_text_list)\n",
    "    target_ret = [None] * len(target_text_list)\n",
    "    for i, sentence in enumerate(source_text_list):\n",
    "        source_ret[i] = [source_vocab_to_int[word] for word in sentence.split(' ') if word in source_vocab_to_int]\n",
    "    for i, sentence in enumerate(target_text_list):\n",
    "        target_ret[i] = [target_vocab_to_int[word] for word in sentence.split(' ') if word in target_vocab_to_int]\n",
    "    return source_ret, target_ret\n",
    "\n",
    "\"\"\"\n",
    "DON'T MODIFY ANYTHING IN THIS CELL THAT IS BELOW THIS LINE\n",
    "\"\"\"\n",
    "tests.test_text_to_ids(text_to_ids)"
   ]
  },
  {
   "cell_type": "markdown",
   "metadata": {
    "deletable": true,
    "editable": true
   },
   "source": [
    "### Preprocess all the data and save it\n",
    "Running the code cell below will preprocess all the data and save it to file."
   ]
  },
  {
   "cell_type": "code",
   "execution_count": 4,
   "metadata": {
    "collapsed": false,
    "deletable": true,
    "editable": true
   },
   "outputs": [],
   "source": [
    "\"\"\"\n",
    "DON'T MODIFY ANYTHING IN THIS CELL\n",
    "\"\"\"\n",
    "helper.preprocess_and_save_data(source_path, target_path, text_to_ids)"
   ]
  },
  {
   "cell_type": "markdown",
   "metadata": {
    "deletable": true,
    "editable": true
   },
   "source": [
    "# Check Point\n",
    "This is your first checkpoint. If you ever decide to come back to this notebook or have to restart the notebook, you can start from here. The preprocessed data has been saved to disk."
   ]
  },
  {
   "cell_type": "code",
   "execution_count": 5,
   "metadata": {
    "collapsed": false,
    "deletable": true,
    "editable": true
   },
   "outputs": [],
   "source": [
    "\"\"\"\n",
    "DON'T MODIFY ANYTHING IN THIS CELL\n",
    "\"\"\"\n",
    "import numpy as np\n",
    "import helper\n",
    "\n",
    "(source_int_text, target_int_text), (source_vocab_to_int, target_vocab_to_int), _ = helper.load_preprocess()"
   ]
  },
  {
   "cell_type": "markdown",
   "metadata": {
    "deletable": true,
    "editable": true
   },
   "source": [
    "### Check the Version of TensorFlow and Access to GPU\n",
    "This will check to make sure you have the correct version of TensorFlow and access to a GPU"
   ]
  },
  {
   "cell_type": "code",
   "execution_count": 6,
   "metadata": {
    "collapsed": false,
    "deletable": true,
    "editable": true
   },
   "outputs": [
    {
     "name": "stdout",
     "output_type": "stream",
     "text": [
      "TensorFlow Version: 1.0.1\n",
      "Default GPU Device: /gpu:0\n"
     ]
    }
   ],
   "source": [
    "\"\"\"\n",
    "DON'T MODIFY ANYTHING IN THIS CELL\n",
    "\"\"\"\n",
    "from distutils.version import LooseVersion\n",
    "import warnings\n",
    "import tensorflow as tf\n",
    "\n",
    "# Check TensorFlow Version\n",
    "assert LooseVersion(tf.__version__) in [LooseVersion('1.0.0'), LooseVersion('1.0.1')], 'This project requires TensorFlow version 1.0  You are using {}'.format(tf.__version__)\n",
    "print('TensorFlow Version: {}'.format(tf.__version__))\n",
    "\n",
    "# Check for a GPU\n",
    "if not tf.test.gpu_device_name():\n",
    "    warnings.warn('No GPU found. Please use a GPU to train your neural network.')\n",
    "else:\n",
    "    print('Default GPU Device: {}'.format(tf.test.gpu_device_name()))"
   ]
  },
  {
   "cell_type": "markdown",
   "metadata": {
    "deletable": true,
    "editable": true
   },
   "source": [
    "## Build the Neural Network\n",
    "You'll build the components necessary to build a Sequence-to-Sequence model by implementing the following functions below:\n",
    "- `model_inputs`\n",
    "- `process_decoding_input`\n",
    "- `encoding_layer`\n",
    "- `decoding_layer_train`\n",
    "- `decoding_layer_infer`\n",
    "- `decoding_layer`\n",
    "- `seq2seq_model`\n",
    "\n",
    "### Input\n",
    "Implement the `model_inputs()` function to create TF Placeholders for the Neural Network. It should create the following placeholders:\n",
    "\n",
    "- Input text placeholder named \"input\" using the TF Placeholder name parameter with rank 2.\n",
    "- Targets placeholder with rank 2.\n",
    "- Learning rate placeholder with rank 0.\n",
    "- Keep probability placeholder named \"keep_prob\" using the TF Placeholder name parameter with rank 0.\n",
    "\n",
    "Return the placeholders in the following the tuple (Input, Targets, Learing Rate, Keep Probability)"
   ]
  },
  {
   "cell_type": "code",
   "execution_count": 7,
   "metadata": {
    "collapsed": false,
    "deletable": true,
    "editable": true
   },
   "outputs": [
    {
     "name": "stdout",
     "output_type": "stream",
     "text": [
      "Tests Passed\n"
     ]
    }
   ],
   "source": [
    "def model_inputs():\n",
    "    \"\"\"\n",
    "    Create TF Placeholders for input, targets, and learning rate.\n",
    "    :return: Tuple (input, targets, learning rate, keep probability)\n",
    "    \"\"\"\n",
    "    inputs = tf.placeholder(tf.int32, [None, None], \"input\")\n",
    "    targets = tf.placeholder(tf.int32, [None, None], \"targets\")\n",
    "    learning_rate = tf.placeholder(tf.float32, name=\"learning_rate\")\n",
    "    keep_prob = tf.placeholder(tf.float32, name=\"keep_prob\")\n",
    "    \n",
    "    return inputs, targets, learning_rate, keep_prob\n",
    "\n",
    "\"\"\"\n",
    "DON'T MODIFY ANYTHING IN THIS CELL THAT IS BELOW THIS LINE\n",
    "\"\"\"\n",
    "tests.test_model_inputs(model_inputs)"
   ]
  },
  {
   "cell_type": "markdown",
   "metadata": {
    "deletable": true,
    "editable": true
   },
   "source": [
    "### Process Decoding Input\n",
    "Implement `process_decoding_input` using TensorFlow to remove the last word id from each batch in `target_data` and concat the GO ID to the begining of each batch."
   ]
  },
  {
   "cell_type": "code",
   "execution_count": 8,
   "metadata": {
    "collapsed": false,
    "deletable": true,
    "editable": true
   },
   "outputs": [
    {
     "name": "stdout",
     "output_type": "stream",
     "text": [
      "Targets\n",
      "[[0 1 2]\n",
      " [3 4 5]]\n",
      "\n",
      "\n",
      "Processed Decoding Input\n",
      "[[3 0 1]\n",
      " [3 3 4]]\n",
      "Tests Passed\n"
     ]
    }
   ],
   "source": [
    "def process_decoding_input(target_data, target_vocab_to_int, batch_size):\n",
    "    \"\"\"\n",
    "    Preprocess target data for dencoding\n",
    "    :param target_data: Target Placehoder\n",
    "    :param target_vocab_to_int: Dictionary to go from the target words to an id\n",
    "    :param batch_size: Batch Size\n",
    "    :return: Preprocessed target data\n",
    "    \"\"\"\n",
    "    ending = tf.strided_slice(target_data, [0, 0], [batch_size, -1], [1, 1])\n",
    "    dec_input = tf.concat([tf.fill([batch_size, 1], target_vocab_to_int['<GO>']), ending], 1)\n",
    "    \n",
    "    if debug_decoding:\n",
    "        demonstration_outputs = np.reshape(range(target_data.shape[0] * target_data.shape[1]), (target_data.shape[0], target_data.shape[1]))\n",
    "        sess = tf.InteractiveSession()\n",
    "        print(\"Targets\")\n",
    "        print(demonstration_outputs[:2])\n",
    "        print(\"\\n\")\n",
    "        print(\"Processed Decoding Input\")\n",
    "        print(sess.run(dec_input, {target_data: demonstration_outputs})[:2])\n",
    "        sess.close()\n",
    "        \n",
    "    return dec_input\n",
    "\n",
    "debug_decoding = True\n",
    "\"\"\"\n",
    "DON'T MODIFY ANYTHING IN THIS CELL THAT IS BELOW THIS LINE\n",
    "\"\"\"\n",
    "tests.test_process_decoding_input(process_decoding_input)\n",
    "debug_decoding = False"
   ]
  },
  {
   "cell_type": "markdown",
   "metadata": {
    "deletable": true,
    "editable": true
   },
   "source": [
    "### Encoding\n",
    "Implement `encoding_layer()` to create a Encoder RNN layer using [`tf.nn.dynamic_rnn()`](https://www.tensorflow.org/api_docs/python/tf/nn/dynamic_rnn)."
   ]
  },
  {
   "cell_type": "code",
   "execution_count": 9,
   "metadata": {
    "collapsed": false,
    "deletable": true,
    "editable": true
   },
   "outputs": [
    {
     "name": "stdout",
     "output_type": "stream",
     "text": [
      "Tests Passed\n"
     ]
    }
   ],
   "source": [
    "def encoding_layer(rnn_inputs, rnn_size, num_layers, keep_prob):\n",
    "    \"\"\"\n",
    "    Create encoding layer\n",
    "    :param rnn_inputs: Inputs for the RNN\n",
    "    :param rnn_size: RNN Size\n",
    "    :param num_layers: Number of layers\n",
    "    :param keep_prob: Dropout keep probability\n",
    "    :return: RNN state\n",
    "    \"\"\"\n",
    "\n",
    "    # Encoder\n",
    "    enc_cell = tf.contrib.rnn.MultiRNNCell([tf.contrib.rnn.BasicLSTMCell(rnn_size)] * num_layers)\n",
    "    dropout = tf.contrib.rnn.DropoutWrapper(enc_cell, keep_prob)\n",
    "    _, enc_state = tf.nn.dynamic_rnn(enc_cell, rnn_inputs, dtype=tf.float32)\n",
    "    return enc_state\n",
    "\n",
    "\"\"\"\n",
    "DON'T MODIFY ANYTHING IN THIS CELL THAT IS BELOW THIS LINE\n",
    "\"\"\"\n",
    "tests.test_encoding_layer(encoding_layer)"
   ]
  },
  {
   "cell_type": "markdown",
   "metadata": {
    "deletable": true,
    "editable": true
   },
   "source": [
    "### Decoding - Training\n",
    "Create training logits using [`tf.contrib.seq2seq.simple_decoder_fn_train()`](https://www.tensorflow.org/api_docs/python/tf/contrib/seq2seq/simple_decoder_fn_train) and [`tf.contrib.seq2seq.dynamic_rnn_decoder()`](https://www.tensorflow.org/api_docs/python/tf/contrib/seq2seq/dynamic_rnn_decoder).  Apply the `output_fn` to the [`tf.contrib.seq2seq.dynamic_rnn_decoder()`](https://www.tensorflow.org/api_docs/python/tf/contrib/seq2seq/dynamic_rnn_decoder) outputs."
   ]
  },
  {
   "cell_type": "code",
   "execution_count": 10,
   "metadata": {
    "collapsed": false,
    "deletable": true,
    "editable": true
   },
   "outputs": [
    {
     "name": "stdout",
     "output_type": "stream",
     "text": [
      "Tests Passed\n"
     ]
    }
   ],
   "source": [
    "def decoding_layer_train(encoder_state, dec_cell, dec_embed_input, sequence_length, decoding_scope,\n",
    "                         output_fn, keep_prob):\n",
    "    \"\"\"\n",
    "    Create a decoding layer for training\n",
    "    :param encoder_state: Encoder State\n",
    "    :param dec_cell: Decoder RNN Cell\n",
    "    :param dec_embed_input: Decoder embedded input\n",
    "    :param sequence_length: Sequence Length\n",
    "    :param decoding_scope: TenorFlow Variable Scope for decoding\n",
    "    :param output_fn: Function to apply the output layer\n",
    "    :param keep_prob: Dropout keep probability\n",
    "    :return: Train Logits\n",
    "    \"\"\"\n",
    "    # Training Decoder\n",
    "    train_decoder_fn = tf.contrib.seq2seq.simple_decoder_fn_train(encoder_state)\n",
    "    dropout = tf.contrib.rnn.DropoutWrapper(dec_cell, keep_prob)\n",
    "    train_pred, _, _ = tf.contrib.seq2seq.dynamic_rnn_decoder(dropout, train_decoder_fn, dec_embed_input, sequence_length, scope=decoding_scope)\n",
    "    \n",
    "    # Apply output function\n",
    "    train_logits = output_fn(train_pred)\n",
    "    return train_logits\n",
    "\n",
    "\n",
    "\"\"\"\n",
    "DON'T MODIFY ANYTHING IN THIS CELL THAT IS BELOW THIS LINE\n",
    "\"\"\"\n",
    "tests.test_decoding_layer_train(decoding_layer_train)"
   ]
  },
  {
   "cell_type": "markdown",
   "metadata": {
    "deletable": true,
    "editable": true
   },
   "source": [
    "### Decoding - Inference\n",
    "Create inference logits using [`tf.contrib.seq2seq.simple_decoder_fn_inference()`](https://www.tensorflow.org/api_docs/python/tf/contrib/seq2seq/simple_decoder_fn_inference) and [`tf.contrib.seq2seq.dynamic_rnn_decoder()`](https://www.tensorflow.org/api_docs/python/tf/contrib/seq2seq/dynamic_rnn_decoder). "
   ]
  },
  {
   "cell_type": "code",
   "execution_count": 11,
   "metadata": {
    "collapsed": false,
    "deletable": true,
    "editable": true
   },
   "outputs": [
    {
     "name": "stdout",
     "output_type": "stream",
     "text": [
      "Tests Passed\n"
     ]
    }
   ],
   "source": [
    "def decoding_layer_infer(encoder_state, dec_cell, dec_embeddings, start_of_sequence_id, end_of_sequence_id,\n",
    "                         maximum_length, vocab_size, decoding_scope, output_fn, keep_prob):\n",
    "    \"\"\"\n",
    "    Create a decoding layer for inference\n",
    "    :param encoder_state: Encoder state\n",
    "    :param dec_cell: Decoder RNN Cell\n",
    "    :param dec_embeddings: Decoder embeddings\n",
    "    :param start_of_sequence_id: GO ID\n",
    "    :param end_of_sequence_id: EOS Id\n",
    "    :param maximum_length: The maximum allowed time steps to decode\n",
    "    :param vocab_size: Size of vocabulary\n",
    "    :param decoding_scope: TensorFlow Variable Scope for decoding\n",
    "    :param output_fn: Function to apply the output layer\n",
    "    :param keep_prob: Dropout keep probability\n",
    "    :return: Inference Logits\n",
    "    \"\"\"\n",
    "    # Inference Decoder\n",
    "    infer_decoder_fn = tf.contrib.seq2seq.simple_decoder_fn_inference(\n",
    "        output_fn, encoder_state, dec_embeddings, start_of_sequence_id, end_of_sequence_id, maximum_length, vocab_size)\n",
    "    dropout = tf.contrib.rnn.DropoutWrapper(dec_cell, keep_prob)\n",
    "    inference_logits, _, _ = tf.contrib.seq2seq.dynamic_rnn_decoder(dropout, infer_decoder_fn, scope=decoding_scope)\n",
    "    \n",
    "    # Not sure where to apply dropout here...\n",
    "    return inference_logits\n",
    "\n",
    "\n",
    "\"\"\"\n",
    "DON'T MODIFY ANYTHING IN THIS CELL THAT IS BELOW THIS LINE\n",
    "\"\"\"\n",
    "tests.test_decoding_layer_infer(decoding_layer_infer)"
   ]
  },
  {
   "cell_type": "markdown",
   "metadata": {
    "deletable": true,
    "editable": true
   },
   "source": [
    "### Build the Decoding Layer\n",
    "Implement `decoding_layer()` to create a Decoder RNN layer.\n",
    "\n",
    "- Create RNN cell for decoding using `rnn_size` and `num_layers`.\n",
    "- Create the output fuction using [`lambda`](https://docs.python.org/3/tutorial/controlflow.html#lambda-expressions) to transform it's input, logits, to class logits.\n",
    "- Use the your `decoding_layer_train(encoder_state, dec_cell, dec_embed_input, sequence_length, decoding_scope, output_fn, keep_prob)` function to get the training logits.\n",
    "- Use your `decoding_layer_infer(encoder_state, dec_cell, dec_embeddings, start_of_sequence_id, end_of_sequence_id, maximum_length, vocab_size, decoding_scope, output_fn, keep_prob)` function to get the inference logits.\n",
    "\n",
    "Note: You'll need to use [tf.variable_scope](https://www.tensorflow.org/api_docs/python/tf/variable_scope) to share variables between training and inference."
   ]
  },
  {
   "cell_type": "code",
   "execution_count": 12,
   "metadata": {
    "collapsed": false,
    "deletable": true,
    "editable": true
   },
   "outputs": [
    {
     "name": "stdout",
     "output_type": "stream",
     "text": [
      "Tests Passed\n"
     ]
    }
   ],
   "source": [
    "def decoding_layer(dec_embed_input, dec_embeddings, encoder_state, vocab_size, sequence_length, rnn_size,\n",
    "                   num_layers, target_vocab_to_int, keep_prob):\n",
    "    \"\"\"\n",
    "    Create decoding layer\n",
    "    :param dec_embed_input: Decoder embedded input\n",
    "    :param dec_embeddings: Decoder embeddings\n",
    "    :param encoder_state: The encoded state\n",
    "    :param vocab_size: Size of vocabulary\n",
    "    :param sequence_length: Sequence Length\n",
    "    :param rnn_size: RNN Size\n",
    "    :param num_layers: Number of layers\n",
    "    :param target_vocab_to_int: Dictionary to go from the target words to an id\n",
    "    :param keep_prob: Dropout keep probability\n",
    "    :return: Tuple of (Training Logits, Inference Logits)\n",
    "    \"\"\"\n",
    "    dec_cell = tf.contrib.rnn.MultiRNNCell([tf.contrib.rnn.BasicLSTMCell(rnn_size)] * num_layers)\n",
    "    \n",
    "    with tf.variable_scope(\"decoding\") as decoding_scope:\n",
    "        output_fn = lambda x: tf.contrib.layers.fully_connected(x, vocab_size, None, scope=decoding_scope)\n",
    "        train_logits = decoding_layer_train(encoder_state, dec_cell, dec_embed_input, sequence_length, decoding_scope, output_fn, keep_prob)\n",
    "    \n",
    "    with tf.variable_scope(\"decoding\", reuse=True) as decoding_scope:\n",
    "        inf_logits = decoding_layer_infer(encoder_state, dec_cell, dec_embeddings, target_vocab_to_int['<GO>'], target_vocab_to_int['<EOS>'], \n",
    "                                          sequence_length - 1, vocab_size, decoding_scope, output_fn, keep_prob)\n",
    "    return (train_logits, inf_logits)\n",
    "\n",
    "\n",
    "\"\"\"\n",
    "DON'T MODIFY ANYTHING IN THIS CELL THAT IS BELOW THIS LINE\n",
    "\"\"\"\n",
    "tests.test_decoding_layer(decoding_layer)"
   ]
  },
  {
   "cell_type": "markdown",
   "metadata": {
    "deletable": true,
    "editable": true
   },
   "source": [
    "### Build the Neural Network\n",
    "Apply the functions you implemented above to:\n",
    "\n",
    "- Apply embedding to the input data for the encoder.\n",
    "- Encode the input using your `encoding_layer(rnn_inputs, rnn_size, num_layers, keep_prob)`.\n",
    "- Process target data using your `process_decoding_input(target_data, target_vocab_to_int, batch_size)` function.\n",
    "- Apply embedding to the target data for the decoder.\n",
    "- Decode the encoded input using your `decoding_layer(dec_embed_input, dec_embeddings, encoder_state, vocab_size, sequence_length, rnn_size, num_layers, target_vocab_to_int, keep_prob)`."
   ]
  },
  {
   "cell_type": "code",
   "execution_count": 13,
   "metadata": {
    "collapsed": false,
    "deletable": true,
    "editable": true
   },
   "outputs": [
    {
     "name": "stdout",
     "output_type": "stream",
     "text": [
      "Tests Passed\n"
     ]
    }
   ],
   "source": [
    "def seq2seq_model(input_data, target_data, keep_prob, batch_size, sequence_length, source_vocab_size, target_vocab_size,\n",
    "                  enc_embedding_size, dec_embedding_size, rnn_size, num_layers, target_vocab_to_int):\n",
    "    \"\"\"\n",
    "    Build the Sequence-to-Sequence part of the neural network\n",
    "    :param input_data: Input placeholder\n",
    "    :param target_data: Target placeholder\n",
    "    :param keep_prob: Dropout keep probability placeholder\n",
    "    :param batch_size: Batch Size\n",
    "    :param sequence_length: Sequence Length\n",
    "    :param source_vocab_size: Source vocabulary size\n",
    "    :param target_vocab_size: Target vocabulary size\n",
    "    :param enc_embedding_size: Decoder embedding size\n",
    "    :param dec_embedding_size: Encoder embedding size\n",
    "    :param rnn_size: RNN Size\n",
    "    :param num_layers: Number of layers\n",
    "    :param target_vocab_to_int: Dictionary to go from the target words to an id\n",
    "    :return: Tuple of (Training Logits, Inference Logits)\n",
    "    \"\"\"\n",
    "    # Encoder embedding\n",
    "    rnn_input = tf.contrib.layers.embed_sequence(input_data, source_vocab_size, enc_embedding_size)\n",
    "    enc_state = encoding_layer(rnn_input, rnn_size, num_layers, keep_prob)\n",
    "    \n",
    "    dec_input_target = process_decoding_input(target_data, target_vocab_to_int, batch_size)\n",
    "    \n",
    "    # Decoder Embedding\n",
    "    dec_embeddings = tf.Variable(tf.random_uniform([target_vocab_size, dec_embedding_size]))\n",
    "    dec_embed_input = tf.nn.embedding_lookup(dec_embeddings, dec_input_target)\n",
    "    \n",
    "    training_logits, inference_logits = decoding_layer(dec_embed_input, dec_embeddings, enc_state, target_vocab_size, sequence_length, \n",
    "                         rnn_size, num_layers, target_vocab_to_int, keep_prob)\n",
    "    \n",
    "    return (training_logits, inference_logits)\n",
    "\n",
    "\n",
    "\"\"\"\n",
    "DON'T MODIFY ANYTHING IN THIS CELL THAT IS BELOW THIS LINE\n",
    "\"\"\"\n",
    "tests.test_seq2seq_model(seq2seq_model)"
   ]
  },
  {
   "cell_type": "markdown",
   "metadata": {
    "deletable": true,
    "editable": true
   },
   "source": [
    "## Neural Network Training\n",
    "### Hyperparameters\n",
    "Tune the following parameters:\n",
    "\n",
    "- Set `epochs` to the number of epochs.\n",
    "- Set `batch_size` to the batch size.\n",
    "- Set `rnn_size` to the size of the RNNs.\n",
    "- Set `num_layers` to the number of layers.\n",
    "- Set `encoding_embedding_size` to the size of the embedding for the encoder.\n",
    "- Set `decoding_embedding_size` to the size of the embedding for the decoder.\n",
    "- Set `learning_rate` to the learning rate.\n",
    "- Set `keep_probability` to the Dropout keep probability"
   ]
  },
  {
   "cell_type": "code",
   "execution_count": 14,
   "metadata": {
    "collapsed": true,
    "deletable": true,
    "editable": true
   },
   "outputs": [],
   "source": [
    "# Number of Epochs\n",
    "epochs = 20\n",
    "# Batch Size\n",
    "batch_size = 128\n",
    "# RNN Size\n",
    "rnn_size = 50\n",
    "# Number of Layers\n",
    "num_layers = 3\n",
    "# Embedding Size\n",
    "encoding_embedding_size = 15\n",
    "decoding_embedding_size = 15\n",
    "# Learning Rate\n",
    "learning_rate = 0.001\n",
    "# Dropout Keep Probability\n",
    "keep_probability = 0.8"
   ]
  },
  {
   "cell_type": "markdown",
   "metadata": {
    "deletable": true,
    "editable": true
   },
   "source": [
    "### Build the Graph\n",
    "Build the graph using the neural network you implemented."
   ]
  },
  {
   "cell_type": "code",
   "execution_count": 15,
   "metadata": {
    "collapsed": false,
    "deletable": true,
    "editable": true
   },
   "outputs": [],
   "source": [
    "\"\"\"\n",
    "DON'T MODIFY ANYTHING IN THIS CELL\n",
    "\"\"\"\n",
    "save_path = 'checkpoints/dev'\n",
    "(source_int_text, target_int_text), (source_vocab_to_int, target_vocab_to_int), _ = helper.load_preprocess()\n",
    "max_source_sentence_length = max([len(sentence) for sentence in source_int_text])\n",
    "\n",
    "train_graph = tf.Graph()\n",
    "with train_graph.as_default():\n",
    "    input_data, targets, lr, keep_prob = model_inputs()\n",
    "    sequence_length = tf.placeholder_with_default(max_source_sentence_length, None, name='sequence_length')\n",
    "    input_shape = tf.shape(input_data)\n",
    "    \n",
    "    train_logits, inference_logits = seq2seq_model(\n",
    "        tf.reverse(input_data, [-1]), targets, keep_prob, batch_size, sequence_length, len(source_vocab_to_int), len(target_vocab_to_int),\n",
    "        encoding_embedding_size, decoding_embedding_size, rnn_size, num_layers, target_vocab_to_int)\n",
    "\n",
    "    tf.identity(inference_logits, 'logits')\n",
    "    with tf.name_scope(\"optimization\"):\n",
    "        # Loss function\n",
    "        cost = tf.contrib.seq2seq.sequence_loss(\n",
    "            train_logits,\n",
    "            targets,\n",
    "            tf.ones([input_shape[0], sequence_length]))\n",
    "\n",
    "        # Optimizer\n",
    "        optimizer = tf.train.AdamOptimizer(lr)\n",
    "\n",
    "        # Gradient Clipping\n",
    "        gradients = optimizer.compute_gradients(cost)\n",
    "        capped_gradients = [(tf.clip_by_value(grad, -1., 1.), var) for grad, var in gradients if grad is not None]\n",
    "        train_op = optimizer.apply_gradients(capped_gradients)"
   ]
  },
  {
   "cell_type": "markdown",
   "metadata": {
    "deletable": true,
    "editable": true
   },
   "source": [
    "### Train\n",
    "Train the neural network on the preprocessed data. If you have a hard time getting a good loss, check the forms to see if anyone is having the same problem."
   ]
  },
  {
   "cell_type": "code",
   "execution_count": 16,
   "metadata": {
    "collapsed": false,
    "deletable": true,
    "editable": true,
    "scrolled": true
   },
   "outputs": [
    {
     "name": "stdout",
     "output_type": "stream",
     "text": [
      "Epoch   0 Batch    0/1077 - Train Accuracy:  0.179, Validation Accuracy:  0.214, Loss:  5.882\n",
      "Epoch   0 Batch  100/1077 - Train Accuracy:  0.262, Validation Accuracy:  0.336, Loss:  3.361\n",
      "Epoch   0 Batch  200/1077 - Train Accuracy:  0.301, Validation Accuracy:  0.349, Loss:  2.972\n",
      "Epoch   0 Batch  300/1077 - Train Accuracy:  0.336, Validation Accuracy:  0.424, Loss:  2.798\n",
      "Epoch   0 Batch  400/1077 - Train Accuracy:  0.429, Validation Accuracy:  0.483, Loss:  2.447\n",
      "Epoch   0 Batch  500/1077 - Train Accuracy:  0.469, Validation Accuracy:  0.506, Loss:  2.152\n",
      "Epoch   0 Batch  600/1077 - Train Accuracy:  0.506, Validation Accuracy:  0.506, Loss:  1.865\n",
      "Epoch   0 Batch  700/1077 - Train Accuracy:  0.476, Validation Accuracy:  0.516, Loss:  1.751\n",
      "Epoch   0 Batch  800/1077 - Train Accuracy:  0.455, Validation Accuracy:  0.516, Loss:  1.691\n",
      "Epoch   0 Batch  900/1077 - Train Accuracy:  0.458, Validation Accuracy:  0.493, Loss:  1.601\n",
      "Epoch   0 Batch 1000/1077 - Train Accuracy:  0.501, Validation Accuracy:  0.500, Loss:  1.375\n",
      "Epoch   1 Batch    0/1077 - Train Accuracy:  0.483, Validation Accuracy:  0.492, Loss:  1.327\n",
      "Epoch   1 Batch  100/1077 - Train Accuracy:  0.468, Validation Accuracy:  0.504, Loss:  1.274\n",
      "Epoch   1 Batch  200/1077 - Train Accuracy:  0.432, Validation Accuracy:  0.493, Loss:  1.213\n",
      "Epoch   1 Batch  300/1077 - Train Accuracy:  0.424, Validation Accuracy:  0.507, Loss:  1.203\n",
      "Epoch   1 Batch  400/1077 - Train Accuracy:  0.450, Validation Accuracy:  0.496, Loss:  1.127\n",
      "Epoch   1 Batch  500/1077 - Train Accuracy:  0.470, Validation Accuracy:  0.508, Loss:  1.035\n",
      "Epoch   1 Batch  600/1077 - Train Accuracy:  0.480, Validation Accuracy:  0.510, Loss:  0.970\n",
      "Epoch   1 Batch  700/1077 - Train Accuracy:  0.478, Validation Accuracy:  0.518, Loss:  0.936\n",
      "Epoch   1 Batch  800/1077 - Train Accuracy:  0.462, Validation Accuracy:  0.527, Loss:  0.951\n",
      "Epoch   1 Batch  900/1077 - Train Accuracy:  0.489, Validation Accuracy:  0.507, Loss:  0.922\n",
      "Epoch   1 Batch 1000/1077 - Train Accuracy:  0.572, Validation Accuracy:  0.544, Loss:  0.819\n",
      "Epoch   2 Batch    0/1077 - Train Accuracy:  0.548, Validation Accuracy:  0.539, Loss:  0.808\n",
      "Epoch   2 Batch  100/1077 - Train Accuracy:  0.534, Validation Accuracy:  0.557, Loss:  0.805\n",
      "Epoch   2 Batch  200/1077 - Train Accuracy:  0.522, Validation Accuracy:  0.560, Loss:  0.805\n",
      "Epoch   2 Batch  300/1077 - Train Accuracy:  0.527, Validation Accuracy:  0.576, Loss:  0.779\n",
      "Epoch   2 Batch  400/1077 - Train Accuracy:  0.577, Validation Accuracy:  0.592, Loss:  0.748\n",
      "Epoch   2 Batch  500/1077 - Train Accuracy:  0.561, Validation Accuracy:  0.609, Loss:  0.724\n",
      "Epoch   2 Batch  600/1077 - Train Accuracy:  0.600, Validation Accuracy:  0.610, Loss:  0.668\n",
      "Epoch   2 Batch  700/1077 - Train Accuracy:  0.582, Validation Accuracy:  0.605, Loss:  0.665\n",
      "Epoch   2 Batch  800/1077 - Train Accuracy:  0.558, Validation Accuracy:  0.622, Loss:  0.683\n",
      "Epoch   2 Batch  900/1077 - Train Accuracy:  0.609, Validation Accuracy:  0.625, Loss:  0.672\n",
      "Epoch   2 Batch 1000/1077 - Train Accuracy:  0.635, Validation Accuracy:  0.631, Loss:  0.591\n",
      "Epoch   3 Batch    0/1077 - Train Accuracy:  0.609, Validation Accuracy:  0.626, Loss:  0.608\n",
      "Epoch   3 Batch  100/1077 - Train Accuracy:  0.627, Validation Accuracy:  0.629, Loss:  0.609\n",
      "Epoch   3 Batch  200/1077 - Train Accuracy:  0.615, Validation Accuracy:  0.627, Loss:  0.599\n",
      "Epoch   3 Batch  300/1077 - Train Accuracy:  0.583, Validation Accuracy:  0.634, Loss:  0.579\n",
      "Epoch   3 Batch  400/1077 - Train Accuracy:  0.637, Validation Accuracy:  0.636, Loss:  0.562\n",
      "Epoch   3 Batch  500/1077 - Train Accuracy:  0.641, Validation Accuracy:  0.648, Loss:  0.537\n",
      "Epoch   3 Batch  600/1077 - Train Accuracy:  0.634, Validation Accuracy:  0.643, Loss:  0.496\n",
      "Epoch   3 Batch  700/1077 - Train Accuracy:  0.622, Validation Accuracy:  0.658, Loss:  0.491\n",
      "Epoch   3 Batch  800/1077 - Train Accuracy:  0.615, Validation Accuracy:  0.648, Loss:  0.504\n",
      "Epoch   3 Batch  900/1077 - Train Accuracy:  0.661, Validation Accuracy:  0.652, Loss:  0.491\n",
      "Epoch   3 Batch 1000/1077 - Train Accuracy:  0.714, Validation Accuracy:  0.653, Loss:  0.443\n",
      "Epoch   4 Batch    0/1077 - Train Accuracy:  0.625, Validation Accuracy:  0.670, Loss:  0.443\n",
      "Epoch   4 Batch  100/1077 - Train Accuracy:  0.664, Validation Accuracy:  0.678, Loss:  0.438\n",
      "Epoch   4 Batch  200/1077 - Train Accuracy:  0.674, Validation Accuracy:  0.658, Loss:  0.441\n",
      "Epoch   4 Batch  300/1077 - Train Accuracy:  0.699, Validation Accuracy:  0.670, Loss:  0.436\n",
      "Epoch   4 Batch  400/1077 - Train Accuracy:  0.687, Validation Accuracy:  0.691, Loss:  0.454\n",
      "Epoch   4 Batch  500/1077 - Train Accuracy:  0.696, Validation Accuracy:  0.690, Loss:  0.402\n",
      "Epoch   4 Batch  600/1077 - Train Accuracy:  0.711, Validation Accuracy:  0.689, Loss:  0.377\n",
      "Epoch   4 Batch  700/1077 - Train Accuracy:  0.684, Validation Accuracy:  0.706, Loss:  0.378\n",
      "Epoch   4 Batch  800/1077 - Train Accuracy:  0.716, Validation Accuracy:  0.706, Loss:  0.396\n",
      "Epoch   4 Batch  900/1077 - Train Accuracy:  0.711, Validation Accuracy:  0.714, Loss:  0.388\n",
      "Epoch   4 Batch 1000/1077 - Train Accuracy:  0.768, Validation Accuracy:  0.699, Loss:  0.344\n",
      "Epoch   5 Batch    0/1077 - Train Accuracy:  0.712, Validation Accuracy:  0.725, Loss:  0.349\n",
      "Epoch   5 Batch  100/1077 - Train Accuracy:  0.748, Validation Accuracy:  0.751, Loss:  0.349\n",
      "Epoch   5 Batch  200/1077 - Train Accuracy:  0.722, Validation Accuracy:  0.724, Loss:  0.345\n",
      "Epoch   5 Batch  300/1077 - Train Accuracy:  0.749, Validation Accuracy:  0.717, Loss:  0.349\n",
      "Epoch   5 Batch  400/1077 - Train Accuracy:  0.734, Validation Accuracy:  0.732, Loss:  0.368\n",
      "Epoch   5 Batch  500/1077 - Train Accuracy:  0.748, Validation Accuracy:  0.750, Loss:  0.325\n",
      "Epoch   5 Batch  600/1077 - Train Accuracy:  0.771, Validation Accuracy:  0.736, Loss:  0.307\n",
      "Epoch   5 Batch  700/1077 - Train Accuracy:  0.741, Validation Accuracy:  0.754, Loss:  0.303\n",
      "Epoch   5 Batch  800/1077 - Train Accuracy:  0.734, Validation Accuracy:  0.765, Loss:  0.315\n",
      "Epoch   5 Batch  900/1077 - Train Accuracy:  0.767, Validation Accuracy:  0.767, Loss:  0.321\n",
      "Epoch   5 Batch 1000/1077 - Train Accuracy:  0.795, Validation Accuracy:  0.784, Loss:  0.274\n",
      "Epoch   6 Batch    0/1077 - Train Accuracy:  0.763, Validation Accuracy:  0.749, Loss:  0.276\n",
      "Epoch   6 Batch  100/1077 - Train Accuracy:  0.782, Validation Accuracy:  0.789, Loss:  0.284\n",
      "Epoch   6 Batch  200/1077 - Train Accuracy:  0.747, Validation Accuracy:  0.776, Loss:  0.279\n",
      "Epoch   6 Batch  300/1077 - Train Accuracy:  0.777, Validation Accuracy:  0.767, Loss:  0.278\n",
      "Epoch   6 Batch  400/1077 - Train Accuracy:  0.778, Validation Accuracy:  0.790, Loss:  0.302\n",
      "Epoch   6 Batch  500/1077 - Train Accuracy:  0.793, Validation Accuracy:  0.778, Loss:  0.255\n",
      "Epoch   6 Batch  600/1077 - Train Accuracy:  0.783, Validation Accuracy:  0.785, Loss:  0.249\n",
      "Epoch   6 Batch  700/1077 - Train Accuracy:  0.789, Validation Accuracy:  0.802, Loss:  0.239\n",
      "Epoch   6 Batch  800/1077 - Train Accuracy:  0.773, Validation Accuracy:  0.788, Loss:  0.251\n",
      "Epoch   6 Batch  900/1077 - Train Accuracy:  0.794, Validation Accuracy:  0.790, Loss:  0.254\n",
      "Epoch   6 Batch 1000/1077 - Train Accuracy:  0.823, Validation Accuracy:  0.809, Loss:  0.218\n",
      "Epoch   7 Batch    0/1077 - Train Accuracy:  0.799, Validation Accuracy:  0.790, Loss:  0.217\n",
      "Epoch   7 Batch  100/1077 - Train Accuracy:  0.802, Validation Accuracy:  0.826, Loss:  0.222\n",
      "Epoch   7 Batch  200/1077 - Train Accuracy:  0.751, Validation Accuracy:  0.817, Loss:  0.223\n",
      "Epoch   7 Batch  300/1077 - Train Accuracy:  0.798, Validation Accuracy:  0.792, Loss:  0.214\n",
      "Epoch   7 Batch  400/1077 - Train Accuracy:  0.771, Validation Accuracy:  0.810, Loss:  0.234\n",
      "Epoch   7 Batch  500/1077 - Train Accuracy:  0.821, Validation Accuracy:  0.804, Loss:  0.200\n",
      "Epoch   7 Batch  600/1077 - Train Accuracy:  0.820, Validation Accuracy:  0.812, Loss:  0.199\n",
      "Epoch   7 Batch  700/1077 - Train Accuracy:  0.803, Validation Accuracy:  0.828, Loss:  0.188\n",
      "Epoch   7 Batch  800/1077 - Train Accuracy:  0.780, Validation Accuracy:  0.821, Loss:  0.201\n",
      "Epoch   7 Batch  900/1077 - Train Accuracy:  0.807, Validation Accuracy:  0.805, Loss:  0.208\n",
      "Epoch   7 Batch 1000/1077 - Train Accuracy:  0.830, Validation Accuracy:  0.833, Loss:  0.172\n",
      "Epoch   8 Batch    0/1077 - Train Accuracy:  0.846, Validation Accuracy:  0.822, Loss:  0.171\n",
      "Epoch   8 Batch  100/1077 - Train Accuracy:  0.818, Validation Accuracy:  0.836, Loss:  0.173\n",
      "Epoch   8 Batch  200/1077 - Train Accuracy:  0.786, Validation Accuracy:  0.818, Loss:  0.179\n",
      "Epoch   8 Batch  300/1077 - Train Accuracy:  0.854, Validation Accuracy:  0.837, Loss:  0.170\n",
      "Epoch   8 Batch  400/1077 - Train Accuracy:  0.842, Validation Accuracy:  0.842, Loss:  0.185\n",
      "Epoch   8 Batch  500/1077 - Train Accuracy:  0.866, Validation Accuracy:  0.840, Loss:  0.155\n",
      "Epoch   8 Batch  600/1077 - Train Accuracy:  0.846, Validation Accuracy:  0.844, Loss:  0.162\n",
      "Epoch   8 Batch  700/1077 - Train Accuracy:  0.854, Validation Accuracy:  0.847, Loss:  0.145\n",
      "Epoch   8 Batch  800/1077 - Train Accuracy:  0.819, Validation Accuracy:  0.841, Loss:  0.162\n",
      "Epoch   8 Batch  900/1077 - Train Accuracy:  0.855, Validation Accuracy:  0.831, Loss:  0.162\n",
      "Epoch   8 Batch 1000/1077 - Train Accuracy:  0.862, Validation Accuracy:  0.862, Loss:  0.137\n",
      "Epoch   9 Batch    0/1077 - Train Accuracy:  0.854, Validation Accuracy:  0.835, Loss:  0.135\n",
      "Epoch   9 Batch  100/1077 - Train Accuracy:  0.870, Validation Accuracy:  0.854, Loss:  0.135\n",
      "Epoch   9 Batch  200/1077 - Train Accuracy:  0.809, Validation Accuracy:  0.868, Loss:  0.144\n",
      "Epoch   9 Batch  300/1077 - Train Accuracy:  0.871, Validation Accuracy:  0.849, Loss:  0.136\n",
      "Epoch   9 Batch  400/1077 - Train Accuracy:  0.866, Validation Accuracy:  0.857, Loss:  0.150\n",
      "Epoch   9 Batch  500/1077 - Train Accuracy:  0.877, Validation Accuracy:  0.852, Loss:  0.129\n",
      "Epoch   9 Batch  600/1077 - Train Accuracy:  0.868, Validation Accuracy:  0.870, Loss:  0.133\n",
      "Epoch   9 Batch  700/1077 - Train Accuracy:  0.889, Validation Accuracy:  0.854, Loss:  0.119\n",
      "Epoch   9 Batch  800/1077 - Train Accuracy:  0.847, Validation Accuracy:  0.876, Loss:  0.132\n",
      "Epoch   9 Batch  900/1077 - Train Accuracy:  0.884, Validation Accuracy:  0.852, Loss:  0.133\n",
      "Epoch   9 Batch 1000/1077 - Train Accuracy:  0.877, Validation Accuracy:  0.864, Loss:  0.114\n",
      "Epoch  10 Batch    0/1077 - Train Accuracy:  0.888, Validation Accuracy:  0.868, Loss:  0.110\n",
      "Epoch  10 Batch  100/1077 - Train Accuracy:  0.882, Validation Accuracy:  0.872, Loss:  0.113\n",
      "Epoch  10 Batch  200/1077 - Train Accuracy:  0.843, Validation Accuracy:  0.869, Loss:  0.125\n",
      "Epoch  10 Batch  300/1077 - Train Accuracy:  0.905, Validation Accuracy:  0.887, Loss:  0.110\n",
      "Epoch  10 Batch  400/1077 - Train Accuracy:  0.873, Validation Accuracy:  0.877, Loss:  0.125\n",
      "Epoch  10 Batch  500/1077 - Train Accuracy:  0.905, Validation Accuracy:  0.863, Loss:  0.106\n",
      "Epoch  10 Batch  600/1077 - Train Accuracy:  0.882, Validation Accuracy:  0.871, Loss:  0.117\n",
      "Epoch  10 Batch  700/1077 - Train Accuracy:  0.892, Validation Accuracy:  0.857, Loss:  0.097\n",
      "Epoch  10 Batch  800/1077 - Train Accuracy:  0.869, Validation Accuracy:  0.874, Loss:  0.111\n",
      "Epoch  10 Batch  900/1077 - Train Accuracy:  0.902, Validation Accuracy:  0.852, Loss:  0.112\n",
      "Epoch  10 Batch 1000/1077 - Train Accuracy:  0.897, Validation Accuracy:  0.864, Loss:  0.095\n",
      "Epoch  11 Batch    0/1077 - Train Accuracy:  0.906, Validation Accuracy:  0.868, Loss:  0.090\n",
      "Epoch  11 Batch  100/1077 - Train Accuracy:  0.893, Validation Accuracy:  0.869, Loss:  0.093\n",
      "Epoch  11 Batch  200/1077 - Train Accuracy:  0.861, Validation Accuracy:  0.873, Loss:  0.098\n",
      "Epoch  11 Batch  300/1077 - Train Accuracy:  0.931, Validation Accuracy:  0.878, Loss:  0.088\n",
      "Epoch  11 Batch  400/1077 - Train Accuracy:  0.879, Validation Accuracy:  0.890, Loss:  0.098\n",
      "Epoch  11 Batch  500/1077 - Train Accuracy:  0.904, Validation Accuracy:  0.854, Loss:  0.085\n",
      "Epoch  11 Batch  600/1077 - Train Accuracy:  0.891, Validation Accuracy:  0.883, Loss:  0.096\n",
      "Epoch  11 Batch  700/1077 - Train Accuracy:  0.905, Validation Accuracy:  0.879, Loss:  0.079\n",
      "Epoch  11 Batch  800/1077 - Train Accuracy:  0.877, Validation Accuracy:  0.880, Loss:  0.092\n",
      "Epoch  11 Batch  900/1077 - Train Accuracy:  0.907, Validation Accuracy:  0.870, Loss:  0.095\n",
      "Epoch  11 Batch 1000/1077 - Train Accuracy:  0.876, Validation Accuracy:  0.875, Loss:  0.082\n",
      "Epoch  12 Batch    0/1077 - Train Accuracy:  0.906, Validation Accuracy:  0.879, Loss:  0.076\n",
      "Epoch  12 Batch  100/1077 - Train Accuracy:  0.892, Validation Accuracy:  0.893, Loss:  0.077\n",
      "Epoch  12 Batch  200/1077 - Train Accuracy:  0.870, Validation Accuracy:  0.891, Loss:  0.081\n",
      "Epoch  12 Batch  300/1077 - Train Accuracy:  0.934, Validation Accuracy:  0.901, Loss:  0.074\n",
      "Epoch  12 Batch  400/1077 - Train Accuracy:  0.890, Validation Accuracy:  0.901, Loss:  0.080\n",
      "Epoch  12 Batch  500/1077 - Train Accuracy:  0.911, Validation Accuracy:  0.871, Loss:  0.069\n",
      "Epoch  12 Batch  600/1077 - Train Accuracy:  0.896, Validation Accuracy:  0.898, Loss:  0.082\n",
      "Epoch  12 Batch  700/1077 - Train Accuracy:  0.893, Validation Accuracy:  0.887, Loss:  0.066\n",
      "Epoch  12 Batch  800/1077 - Train Accuracy:  0.896, Validation Accuracy:  0.902, Loss:  0.072\n",
      "Epoch  12 Batch  900/1077 - Train Accuracy:  0.914, Validation Accuracy:  0.896, Loss:  0.077\n",
      "Epoch  12 Batch 1000/1077 - Train Accuracy:  0.884, Validation Accuracy:  0.881, Loss:  0.071\n",
      "Epoch  13 Batch    0/1077 - Train Accuracy:  0.927, Validation Accuracy:  0.896, Loss:  0.060\n",
      "Epoch  13 Batch  100/1077 - Train Accuracy:  0.888, Validation Accuracy:  0.892, Loss:  0.064\n",
      "Epoch  13 Batch  200/1077 - Train Accuracy:  0.882, Validation Accuracy:  0.897, Loss:  0.070\n",
      "Epoch  13 Batch  300/1077 - Train Accuracy:  0.933, Validation Accuracy:  0.889, Loss:  0.059\n",
      "Epoch  13 Batch  400/1077 - Train Accuracy:  0.895, Validation Accuracy:  0.900, Loss:  0.071\n",
      "Epoch  13 Batch  500/1077 - Train Accuracy:  0.930, Validation Accuracy:  0.887, Loss:  0.056\n",
      "Epoch  13 Batch  600/1077 - Train Accuracy:  0.919, Validation Accuracy:  0.893, Loss:  0.068\n",
      "Epoch  13 Batch  700/1077 - Train Accuracy:  0.911, Validation Accuracy:  0.903, Loss:  0.057\n",
      "Epoch  13 Batch  800/1077 - Train Accuracy:  0.885, Validation Accuracy:  0.913, Loss:  0.064\n",
      "Epoch  13 Batch  900/1077 - Train Accuracy:  0.929, Validation Accuracy:  0.905, Loss:  0.069\n",
      "Epoch  13 Batch 1000/1077 - Train Accuracy:  0.893, Validation Accuracy:  0.904, Loss:  0.063\n",
      "Epoch  14 Batch    0/1077 - Train Accuracy:  0.932, Validation Accuracy:  0.907, Loss:  0.049\n",
      "Epoch  14 Batch  100/1077 - Train Accuracy:  0.900, Validation Accuracy:  0.895, Loss:  0.059\n",
      "Epoch  14 Batch  200/1077 - Train Accuracy:  0.878, Validation Accuracy:  0.907, Loss:  0.060\n",
      "Epoch  14 Batch  300/1077 - Train Accuracy:  0.931, Validation Accuracy:  0.894, Loss:  0.049\n",
      "Epoch  14 Batch  400/1077 - Train Accuracy:  0.900, Validation Accuracy:  0.925, Loss:  0.060\n",
      "Epoch  14 Batch  500/1077 - Train Accuracy:  0.925, Validation Accuracy:  0.902, Loss:  0.047\n",
      "Epoch  14 Batch  600/1077 - Train Accuracy:  0.922, Validation Accuracy:  0.916, Loss:  0.062\n",
      "Epoch  14 Batch  700/1077 - Train Accuracy:  0.924, Validation Accuracy:  0.913, Loss:  0.053\n",
      "Epoch  14 Batch  800/1077 - Train Accuracy:  0.910, Validation Accuracy:  0.930, Loss:  0.054\n",
      "Epoch  14 Batch  900/1077 - Train Accuracy:  0.932, Validation Accuracy:  0.887, Loss:  0.057\n",
      "Epoch  14 Batch 1000/1077 - Train Accuracy:  0.899, Validation Accuracy:  0.911, Loss:  0.053\n",
      "Epoch  15 Batch    0/1077 - Train Accuracy:  0.946, Validation Accuracy:  0.913, Loss:  0.045\n",
      "Epoch  15 Batch  100/1077 - Train Accuracy:  0.909, Validation Accuracy:  0.916, Loss:  0.048\n",
      "Epoch  15 Batch  200/1077 - Train Accuracy:  0.884, Validation Accuracy:  0.913, Loss:  0.055\n",
      "Epoch  15 Batch  300/1077 - Train Accuracy:  0.938, Validation Accuracy:  0.913, Loss:  0.044\n",
      "Epoch  15 Batch  400/1077 - Train Accuracy:  0.898, Validation Accuracy:  0.918, Loss:  0.057\n",
      "Epoch  15 Batch  500/1077 - Train Accuracy:  0.939, Validation Accuracy:  0.913, Loss:  0.043\n",
      "Epoch  15 Batch  600/1077 - Train Accuracy:  0.934, Validation Accuracy:  0.921, Loss:  0.058\n",
      "Epoch  15 Batch  700/1077 - Train Accuracy:  0.931, Validation Accuracy:  0.926, Loss:  0.042\n",
      "Epoch  15 Batch  800/1077 - Train Accuracy:  0.916, Validation Accuracy:  0.932, Loss:  0.045\n",
      "Epoch  15 Batch  900/1077 - Train Accuracy:  0.938, Validation Accuracy:  0.915, Loss:  0.051\n",
      "Epoch  15 Batch 1000/1077 - Train Accuracy:  0.909, Validation Accuracy:  0.914, Loss:  0.051\n",
      "Epoch  16 Batch    0/1077 - Train Accuracy:  0.950, Validation Accuracy:  0.930, Loss:  0.038\n",
      "Epoch  16 Batch  100/1077 - Train Accuracy:  0.913, Validation Accuracy:  0.933, Loss:  0.045\n",
      "Epoch  16 Batch  200/1077 - Train Accuracy:  0.899, Validation Accuracy:  0.925, Loss:  0.050\n",
      "Epoch  16 Batch  300/1077 - Train Accuracy:  0.952, Validation Accuracy:  0.915, Loss:  0.038\n",
      "Epoch  16 Batch  400/1077 - Train Accuracy:  0.914, Validation Accuracy:  0.932, Loss:  0.049\n",
      "Epoch  16 Batch  500/1077 - Train Accuracy:  0.932, Validation Accuracy:  0.917, Loss:  0.040\n",
      "Epoch  16 Batch  600/1077 - Train Accuracy:  0.940, Validation Accuracy:  0.929, Loss:  0.050\n",
      "Epoch  16 Batch  700/1077 - Train Accuracy:  0.935, Validation Accuracy:  0.925, Loss:  0.038\n",
      "Epoch  16 Batch  800/1077 - Train Accuracy:  0.896, Validation Accuracy:  0.919, Loss:  0.042\n",
      "Epoch  16 Batch  900/1077 - Train Accuracy:  0.940, Validation Accuracy:  0.925, Loss:  0.050\n",
      "Epoch  16 Batch 1000/1077 - Train Accuracy:  0.926, Validation Accuracy:  0.938, Loss:  0.046\n",
      "Epoch  17 Batch    0/1077 - Train Accuracy:  0.954, Validation Accuracy:  0.934, Loss:  0.037\n",
      "Epoch  17 Batch  100/1077 - Train Accuracy:  0.921, Validation Accuracy:  0.924, Loss:  0.040\n",
      "Epoch  17 Batch  200/1077 - Train Accuracy:  0.900, Validation Accuracy:  0.924, Loss:  0.044\n",
      "Epoch  17 Batch  300/1077 - Train Accuracy:  0.956, Validation Accuracy:  0.925, Loss:  0.037\n",
      "Epoch  17 Batch  400/1077 - Train Accuracy:  0.908, Validation Accuracy:  0.914, Loss:  0.052\n",
      "Epoch  17 Batch  500/1077 - Train Accuracy:  0.930, Validation Accuracy:  0.924, Loss:  0.037\n",
      "Epoch  17 Batch  600/1077 - Train Accuracy:  0.955, Validation Accuracy:  0.934, Loss:  0.045\n",
      "Epoch  17 Batch  700/1077 - Train Accuracy:  0.939, Validation Accuracy:  0.915, Loss:  0.036\n",
      "Epoch  17 Batch  800/1077 - Train Accuracy:  0.923, Validation Accuracy:  0.941, Loss:  0.039\n",
      "Epoch  17 Batch  900/1077 - Train Accuracy:  0.946, Validation Accuracy:  0.929, Loss:  0.045\n",
      "Epoch  17 Batch 1000/1077 - Train Accuracy:  0.935, Validation Accuracy:  0.932, Loss:  0.043\n",
      "Epoch  18 Batch    0/1077 - Train Accuracy:  0.953, Validation Accuracy:  0.932, Loss:  0.029\n",
      "Epoch  18 Batch  100/1077 - Train Accuracy:  0.922, Validation Accuracy:  0.923, Loss:  0.038\n",
      "Epoch  18 Batch  200/1077 - Train Accuracy:  0.911, Validation Accuracy:  0.917, Loss:  0.040\n",
      "Epoch  18 Batch  300/1077 - Train Accuracy:  0.954, Validation Accuracy:  0.915, Loss:  0.034\n",
      "Epoch  18 Batch  400/1077 - Train Accuracy:  0.917, Validation Accuracy:  0.918, Loss:  0.044\n",
      "Epoch  18 Batch  500/1077 - Train Accuracy:  0.943, Validation Accuracy:  0.924, Loss:  0.031\n",
      "Epoch  18 Batch  600/1077 - Train Accuracy:  0.954, Validation Accuracy:  0.937, Loss:  0.043\n",
      "Epoch  18 Batch  700/1077 - Train Accuracy:  0.942, Validation Accuracy:  0.921, Loss:  0.032\n",
      "Epoch  18 Batch  800/1077 - Train Accuracy:  0.912, Validation Accuracy:  0.943, Loss:  0.038\n",
      "Epoch  18 Batch  900/1077 - Train Accuracy:  0.946, Validation Accuracy:  0.926, Loss:  0.041\n",
      "Epoch  18 Batch 1000/1077 - Train Accuracy:  0.931, Validation Accuracy:  0.930, Loss:  0.040\n",
      "Epoch  19 Batch    0/1077 - Train Accuracy:  0.948, Validation Accuracy:  0.936, Loss:  0.031\n",
      "Epoch  19 Batch  100/1077 - Train Accuracy:  0.923, Validation Accuracy:  0.941, Loss:  0.037\n",
      "Epoch  19 Batch  200/1077 - Train Accuracy:  0.918, Validation Accuracy:  0.917, Loss:  0.037\n",
      "Epoch  19 Batch  300/1077 - Train Accuracy:  0.954, Validation Accuracy:  0.928, Loss:  0.033\n",
      "Epoch  19 Batch  400/1077 - Train Accuracy:  0.930, Validation Accuracy:  0.919, Loss:  0.039\n",
      "Epoch  19 Batch  500/1077 - Train Accuracy:  0.948, Validation Accuracy:  0.917, Loss:  0.031\n",
      "Epoch  19 Batch  600/1077 - Train Accuracy:  0.945, Validation Accuracy:  0.936, Loss:  0.042\n",
      "Epoch  19 Batch  700/1077 - Train Accuracy:  0.947, Validation Accuracy:  0.924, Loss:  0.030\n",
      "Epoch  19 Batch  800/1077 - Train Accuracy:  0.914, Validation Accuracy:  0.940, Loss:  0.032\n",
      "Epoch  19 Batch  900/1077 - Train Accuracy:  0.945, Validation Accuracy:  0.927, Loss:  0.038\n",
      "Epoch  19 Batch 1000/1077 - Train Accuracy:  0.936, Validation Accuracy:  0.935, Loss:  0.037\n",
      "Model Trained and Saved\n"
     ]
    }
   ],
   "source": [
    "\"\"\"\n",
    "DON'T MODIFY ANYTHING IN THIS CELL\n",
    "\"\"\"\n",
    "import time\n",
    "\n",
    "def get_accuracy(target, logits):\n",
    "    \"\"\"\n",
    "    Calculate accuracy\n",
    "    \"\"\"\n",
    "    max_seq = max(target.shape[1], logits.shape[1])\n",
    "    if max_seq - target.shape[1]:\n",
    "        target = np.pad(\n",
    "            target,\n",
    "            [(0,0),(0,max_seq - target.shape[1])],\n",
    "            'constant')\n",
    "    if max_seq - logits.shape[1]:\n",
    "        logits = np.pad(\n",
    "            logits,\n",
    "            [(0,0),(0,max_seq - logits.shape[1]), (0,0)],\n",
    "            'constant')\n",
    "\n",
    "    return np.mean(np.equal(target, np.argmax(logits, 2)))\n",
    "\n",
    "train_source = source_int_text[batch_size:]\n",
    "train_target = target_int_text[batch_size:]\n",
    "\n",
    "valid_source = helper.pad_sentence_batch(source_int_text[:batch_size])\n",
    "valid_target = helper.pad_sentence_batch(target_int_text[:batch_size])\n",
    "\n",
    "with tf.Session(graph=train_graph) as sess:\n",
    "    sess.run(tf.global_variables_initializer())\n",
    "\n",
    "    for epoch_i in range(epochs):\n",
    "        for batch_i, (source_batch, target_batch) in enumerate(\n",
    "                helper.batch_data(train_source, train_target, batch_size)):\n",
    "            start_time = time.time()\n",
    "            \n",
    "            _, loss = sess.run(\n",
    "                [train_op, cost],\n",
    "                {input_data: source_batch,\n",
    "                 targets: target_batch,\n",
    "                 lr: learning_rate,\n",
    "                 sequence_length: target_batch.shape[1],\n",
    "                 keep_prob: keep_probability})\n",
    "            \n",
    "            batch_train_logits = sess.run(\n",
    "                inference_logits,\n",
    "                {input_data: source_batch, keep_prob: 1.0})\n",
    "            batch_valid_logits = sess.run(\n",
    "                inference_logits,\n",
    "                {input_data: valid_source, keep_prob: 1.0})\n",
    "                \n",
    "            train_acc = get_accuracy(target_batch, batch_train_logits)\n",
    "            valid_acc = get_accuracy(np.array(valid_target), batch_valid_logits)\n",
    "            end_time = time.time()\n",
    "            \n",
    "            if batch_i % 100 == 0:\n",
    "                print('Epoch {:>3} Batch {:>4}/{} - Train Accuracy: {:>6.3f}, Validation Accuracy: {:>6.3f}, Loss: {:>6.3f}'\n",
    "                      .format(epoch_i, batch_i, len(source_int_text) // batch_size, train_acc, valid_acc, loss))\n",
    "\n",
    "    # Save Model\n",
    "    saver = tf.train.Saver()\n",
    "    saver.save(sess, save_path)\n",
    "    print('Model Trained and Saved')"
   ]
  },
  {
   "cell_type": "markdown",
   "metadata": {
    "deletable": true,
    "editable": true
   },
   "source": [
    "### Save Parameters\n",
    "Save the `batch_size` and `save_path` parameters for inference."
   ]
  },
  {
   "cell_type": "code",
   "execution_count": 17,
   "metadata": {
    "collapsed": false,
    "deletable": true,
    "editable": true
   },
   "outputs": [],
   "source": [
    "\"\"\"\n",
    "DON'T MODIFY ANYTHING IN THIS CELL\n",
    "\"\"\"\n",
    "# Save parameters for checkpoint\n",
    "helper.save_params(save_path)"
   ]
  },
  {
   "cell_type": "markdown",
   "metadata": {
    "deletable": true,
    "editable": true
   },
   "source": [
    "# Checkpoint"
   ]
  },
  {
   "cell_type": "code",
   "execution_count": 18,
   "metadata": {
    "collapsed": false,
    "deletable": true,
    "editable": true
   },
   "outputs": [],
   "source": [
    "\"\"\"\n",
    "DON'T MODIFY ANYTHING IN THIS CELL\n",
    "\"\"\"\n",
    "import tensorflow as tf\n",
    "import numpy as np\n",
    "import helper\n",
    "import problem_unittests as tests\n",
    "\n",
    "_, (source_vocab_to_int, target_vocab_to_int), (source_int_to_vocab, target_int_to_vocab) = helper.load_preprocess()\n",
    "load_path = helper.load_params()"
   ]
  },
  {
   "cell_type": "markdown",
   "metadata": {
    "deletable": true,
    "editable": true
   },
   "source": [
    "## Sentence to Sequence\n",
    "To feed a sentence into the model for translation, you first need to preprocess it.  Implement the function `sentence_to_seq()` to preprocess new sentences.\n",
    "\n",
    "- Convert the sentence to lowercase\n",
    "- Convert words into ids using `vocab_to_int`\n",
    " - Convert words not in the vocabulary, to the `<UNK>` word id."
   ]
  },
  {
   "cell_type": "code",
   "execution_count": 19,
   "metadata": {
    "collapsed": false,
    "deletable": true,
    "editable": true
   },
   "outputs": [
    {
     "name": "stdout",
     "output_type": "stream",
     "text": [
      "Tests Passed\n"
     ]
    }
   ],
   "source": [
    "def sentence_to_seq(sentence, vocab_to_int):\n",
    "    \"\"\"\n",
    "    Convert a sentence to a sequence of ids\n",
    "    :param sentence: String\n",
    "    :param vocab_to_int: Dictionary to go from the words to an id\n",
    "    :return: List of word ids\n",
    "    \"\"\"\n",
    "    words = sentence.lower().split(\" \")\n",
    "    return [vocab_to_int[word] if word in vocab_to_int else vocab_to_int['<UNK>'] for word in words]\n",
    "\n",
    "\n",
    "\"\"\"\n",
    "DON'T MODIFY ANYTHING IN THIS CELL THAT IS BELOW THIS LINE\n",
    "\"\"\"\n",
    "tests.test_sentence_to_seq(sentence_to_seq)"
   ]
  },
  {
   "cell_type": "markdown",
   "metadata": {
    "deletable": true,
    "editable": true
   },
   "source": [
    "## Translate\n",
    "This will translate `translate_sentence` from English to French."
   ]
  },
  {
   "cell_type": "code",
   "execution_count": 20,
   "metadata": {
    "collapsed": false,
    "deletable": true,
    "editable": true
   },
   "outputs": [
    {
     "name": "stdout",
     "output_type": "stream",
     "text": [
      "Input\n",
      "  Word Ids:      [224, 46, 188, 190, 214, 106, 230]\n",
      "  English Words: ['he', 'saw', 'a', 'old', 'yellow', 'truck', '.']\n",
      "\n",
      "Prediction\n",
      "  Word Ids:      [289, 83, 122, 202, 280, 269, 1]\n",
      "  French Words: ['il', 'a', 'vu', 'blanc', 'jaune', '.', '<EOS>']\n"
     ]
    }
   ],
   "source": [
    "translate_sentence = 'he saw a old yellow truck .'\n",
    "\n",
    "\n",
    "\"\"\"\n",
    "DON'T MODIFY ANYTHING IN THIS CELL\n",
    "\"\"\"\n",
    "translate_sentence = sentence_to_seq(translate_sentence, source_vocab_to_int)\n",
    "\n",
    "loaded_graph = tf.Graph()\n",
    "with tf.Session(graph=loaded_graph) as sess:\n",
    "    # Load saved model\n",
    "    loader = tf.train.import_meta_graph(load_path + '.meta')\n",
    "    loader.restore(sess, load_path)\n",
    "\n",
    "    input_data = loaded_graph.get_tensor_by_name('input:0')\n",
    "    logits = loaded_graph.get_tensor_by_name('logits:0')\n",
    "    keep_prob = loaded_graph.get_tensor_by_name('keep_prob:0')\n",
    "\n",
    "    translate_logits = sess.run(logits, {input_data: [translate_sentence], keep_prob: 1.0})[0]\n",
    "\n",
    "print('Input')\n",
    "print('  Word Ids:      {}'.format([i for i in translate_sentence]))\n",
    "print('  English Words: {}'.format([source_int_to_vocab[i] for i in translate_sentence]))\n",
    "\n",
    "print('\\nPrediction')\n",
    "print('  Word Ids:      {}'.format([i for i in np.argmax(translate_logits, 1)]))\n",
    "print('  French Words: {}'.format([target_int_to_vocab[i] for i in np.argmax(translate_logits, 1)]))"
   ]
  },
  {
   "cell_type": "markdown",
   "metadata": {
    "deletable": true,
    "editable": true
   },
   "source": [
    "## Imperfect Translation\n",
    "You might notice that some sentences translate better than others.  Since the dataset you're using only has a vocabulary of 227 English words of the thousands that you use, you're only going to see good results using these words.  For this project, you don't need a perfect translation. However, if you want to create a better translation model, you'll need better data.\n",
    "\n",
    "You can train on the [WMT10 French-English corpus](http://www.statmt.org/wmt10/training-giga-fren.tar).  This dataset has more vocabulary and richer in topics discussed.  However, this will take you days to train, so make sure you've a GPU and the neural network is performing well on dataset we provided.  Just make sure you play with the WMT10 corpus after you've submitted this project.\n",
    "## Submitting This Project\n",
    "When submitting this project, make sure to run all the cells before saving the notebook. Save the notebook file as \"dlnd_language_translation.ipynb\" and save it as a HTML file under \"File\" -> \"Download as\". Include the \"helper.py\" and \"problem_unittests.py\" files in your submission."
   ]
  }
 ],
 "metadata": {
  "kernelspec": {
   "display_name": "Python [default]",
   "language": "python",
   "name": "python3"
  },
  "language_info": {
   "codemirror_mode": {
    "name": "ipython",
    "version": 3
   },
   "file_extension": ".py",
   "mimetype": "text/x-python",
   "name": "python",
   "nbconvert_exporter": "python",
   "pygments_lexer": "ipython3",
   "version": "3.5.2"
  }
 },
 "nbformat": 4,
 "nbformat_minor": 0
}
